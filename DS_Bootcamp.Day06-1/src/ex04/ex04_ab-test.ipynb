{
 "cells": [
  {
   "cell_type": "markdown",
   "metadata": {},
   "source": [
    "<h1>A/B-testing<h1>"
   ]
  },
  {
   "cell_type": "code",
   "execution_count": 1,
   "metadata": {},
   "outputs": [],
   "source": [
    "import pandas as pd\n",
    "import sqlite3"
   ]
  },
  {
   "cell_type": "markdown",
   "metadata": {},
   "source": [
    "<h2>create a connection to the database using the library sqlite3<h2>"
   ]
  },
  {
   "cell_type": "code",
   "execution_count": 70,
   "metadata": {},
   "outputs": [],
   "source": [
    "conn = sqlite3.connect(\"../../data/checking-logs.sqlite\")"
   ]
  },
  {
   "cell_type": "markdown",
   "metadata": {},
   "source": [
    "<h2>using only one query for each of the groups, create two dataframes: test_results and control_results with the columns time and avg_diff and only two rows<h2>"
   ]
  },
  {
   "cell_type": "code",
   "execution_count": 66,
   "metadata": {},
   "outputs": [],
   "source": [
    "query = '''\n",
    "    WITH valid_uids AS (\n",
    "        SELECT uid \n",
    "        FROM test\n",
    "        GROUP BY uid\n",
    "        HAVING MIN(unixepoch(first_commit_ts)) < MAX(unixepoch(first_view_ts))\n",
    "            AND MAX(unixepoch(first_commit_ts)) > MIN(unixepoch(first_view_ts))\n",
    "    )\n",
    "    SELECT 'before',AVG((unixepoch(first_commit_ts)-deadlines.deadlines)/3600) AS avg_diff\n",
    "    FROM test\n",
    "    JOIN deadlines ON deadlines.labs = test.labname\n",
    "    WHERE unixepoch(first_commit_ts) < unixepoch(first_view_ts) AND labname <> 'project1'\n",
    "        AND uid IN (SELECT uid FROM valid_uids)\n",
    "    UNION\n",
    "    SELECT 'after',AVG((unixepoch(first_commit_ts)-deadlines.deadlines)/3600) AS avg_diff\n",
    "    FROM test\n",
    "    JOIN deadlines ON deadlines.labs = test.labname\n",
    "    WHERE unixepoch(first_commit_ts) > unixepoch(first_view_ts) AND labname <> 'project1'\n",
    "        AND uid IN (SELECT uid FROM valid_uids)\n",
    "        \n",
    "'''\n",
    "test_results = pd.io.sql.read_sql(query, conn)"
   ]
  },
  {
   "cell_type": "code",
   "execution_count": 74,
   "metadata": {},
   "outputs": [],
   "source": [
    "query = '''\n",
    "    WITH valid_uids AS (\n",
    "        SELECT uid \n",
    "        FROM control\n",
    "        GROUP BY uid\n",
    "        HAVING MIN(unixepoch(first_commit_ts)) < MAX(unixepoch(first_view_ts))\n",
    "            AND MAX(unixepoch(first_commit_ts)) > MIN(unixepoch(first_view_ts))\n",
    "    )\n",
    "    SELECT 'before',AVG((unixepoch(first_commit_ts)-deadlines.deadlines)/3600) AS avg_diff\n",
    "    FROM control\n",
    "    JOIN deadlines ON deadlines.labs = control.labname\n",
    "    WHERE unixepoch(first_commit_ts) < unixepoch(first_view_ts) AND labname <> 'project1'\n",
    "        AND uid IN (SELECT * FROM valid_uids)\n",
    "    UNION\n",
    "    SELECT 'after',AVG((unixepoch(first_commit_ts)-deadlines.deadlines)/3600) AS avg_diff\n",
    "    FROM control\n",
    "    JOIN deadlines ON deadlines.labs = control.labname\n",
    "    WHERE unixepoch(first_commit_ts) > unixepoch(first_view_ts) AND labname <> 'project1'\n",
    "        AND uid IN (SELECT * FROM valid_uids)\n",
    "        \n",
    "'''\n",
    "control_results = pd.io.sql.read_sql(query, conn)"
   ]
  },
  {
   "cell_type": "code",
   "execution_count": 67,
   "metadata": {},
   "outputs": [
    {
     "data": {
      "application/vnd.microsoft.datawrangler.viewer.v0+json": {
       "columns": [
        {
         "name": "index",
         "rawType": "int64",
         "type": "integer"
        },
        {
         "name": "'before'",
         "rawType": "object",
         "type": "string"
        },
        {
         "name": "avg_diff",
         "rawType": "float64",
         "type": "float"
        }
       ],
       "conversionMethod": "pd.DataFrame",
       "ref": "8b003a12-c54c-4299-9db6-445972d05409",
       "rows": [
        [
         "0",
         "after",
         "-117.63636363636364"
        ],
        [
         "1",
         "before",
         "-99.46428571428571"
        ]
       ],
       "shape": {
        "columns": 2,
        "rows": 2
       }
      },
      "text/html": [
       "<div>\n",
       "<style scoped>\n",
       "    .dataframe tbody tr th:only-of-type {\n",
       "        vertical-align: middle;\n",
       "    }\n",
       "\n",
       "    .dataframe tbody tr th {\n",
       "        vertical-align: top;\n",
       "    }\n",
       "\n",
       "    .dataframe thead th {\n",
       "        text-align: right;\n",
       "    }\n",
       "</style>\n",
       "<table border=\"1\" class=\"dataframe\">\n",
       "  <thead>\n",
       "    <tr style=\"text-align: right;\">\n",
       "      <th></th>\n",
       "      <th>'before'</th>\n",
       "      <th>avg_diff</th>\n",
       "    </tr>\n",
       "  </thead>\n",
       "  <tbody>\n",
       "    <tr>\n",
       "      <th>0</th>\n",
       "      <td>after</td>\n",
       "      <td>-117.636364</td>\n",
       "    </tr>\n",
       "    <tr>\n",
       "      <th>1</th>\n",
       "      <td>before</td>\n",
       "      <td>-99.464286</td>\n",
       "    </tr>\n",
       "  </tbody>\n",
       "</table>\n",
       "</div>"
      ],
      "text/plain": [
       "  'before'    avg_diff\n",
       "0    after -117.636364\n",
       "1   before  -99.464286"
      ]
     },
     "execution_count": 67,
     "metadata": {},
     "output_type": "execute_result"
    }
   ],
   "source": [
    "control_results"
   ]
  },
  {
   "cell_type": "code",
   "execution_count": 76,
   "metadata": {},
   "outputs": [
    {
     "data": {
      "application/vnd.microsoft.datawrangler.viewer.v0+json": {
       "columns": [
        {
         "name": "index",
         "rawType": "int64",
         "type": "integer"
        },
        {
         "name": "'before'",
         "rawType": "object",
         "type": "string"
        },
        {
         "name": "avg_diff",
         "rawType": "float64",
         "type": "float"
        }
       ],
       "conversionMethod": "pd.DataFrame",
       "ref": "030cde36-0540-45f8-ba63-20d3b843463d",
       "rows": [
        [
         "0",
         "after",
         "-93.85"
        ],
        [
         "1",
         "before",
         "-60.5625"
        ]
       ],
       "shape": {
        "columns": 2,
        "rows": 2
       }
      },
      "text/html": [
       "<div>\n",
       "<style scoped>\n",
       "    .dataframe tbody tr th:only-of-type {\n",
       "        vertical-align: middle;\n",
       "    }\n",
       "\n",
       "    .dataframe tbody tr th {\n",
       "        vertical-align: top;\n",
       "    }\n",
       "\n",
       "    .dataframe thead th {\n",
       "        text-align: right;\n",
       "    }\n",
       "</style>\n",
       "<table border=\"1\" class=\"dataframe\">\n",
       "  <thead>\n",
       "    <tr style=\"text-align: right;\">\n",
       "      <th></th>\n",
       "      <th>'before'</th>\n",
       "      <th>avg_diff</th>\n",
       "    </tr>\n",
       "  </thead>\n",
       "  <tbody>\n",
       "    <tr>\n",
       "      <th>0</th>\n",
       "      <td>after</td>\n",
       "      <td>-93.8500</td>\n",
       "    </tr>\n",
       "    <tr>\n",
       "      <th>1</th>\n",
       "      <td>before</td>\n",
       "      <td>-60.5625</td>\n",
       "    </tr>\n",
       "  </tbody>\n",
       "</table>\n",
       "</div>"
      ],
      "text/plain": [
       "  'before'  avg_diff\n",
       "0    after  -93.8500\n",
       "1   before  -60.5625"
      ]
     },
     "execution_count": 76,
     "metadata": {},
     "output_type": "execute_result"
    }
   ],
   "source": [
    "test_results"
   ]
  },
  {
   "cell_type": "markdown",
   "metadata": {},
   "source": [
    "<h2>close the connection<h2>"
   ]
  },
  {
   "cell_type": "code",
   "execution_count": 75,
   "metadata": {},
   "outputs": [],
   "source": [
    "conn.close()"
   ]
  },
  {
   "cell_type": "markdown",
   "metadata": {},
   "source": [
    "<h2>have the answer: did the hypothesis turn out to be true and the page does affect the students’ behavior?<h2>"
   ]
  },
  {
   "cell_type": "markdown",
   "metadata": {},
   "source": [
    "We can not be sure, becouse control results are not the same"
   ]
  }
 ],
 "metadata": {
  "kernelspec": {
   "display_name": ".venv",
   "language": "python",
   "name": "python3"
  },
  "language_info": {
   "codemirror_mode": {
    "name": "ipython",
    "version": 3
   },
   "file_extension": ".py",
   "mimetype": "text/x-python",
   "name": "python",
   "nbconvert_exporter": "python",
   "pygments_lexer": "ipython3",
   "version": "3.13.1"
  }
 },
 "nbformat": 4,
 "nbformat_minor": 2
}
