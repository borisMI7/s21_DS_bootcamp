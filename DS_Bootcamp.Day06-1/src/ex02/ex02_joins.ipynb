{
 "cells": [
  {
   "cell_type": "markdown",
   "metadata": {},
   "source": [
    "<h1>Join<h1>"
   ]
  },
  {
   "cell_type": "code",
   "execution_count": 1,
   "metadata": {},
   "outputs": [],
   "source": [
    "import pandas as pd\n",
    "import sqlite3"
   ]
  },
  {
   "cell_type": "markdown",
   "metadata": {},
   "source": [
    "<h2>create a connection to the database using the library sqlite3<h2>"
   ]
  },
  {
   "cell_type": "code",
   "execution_count": 2,
   "metadata": {},
   "outputs": [],
   "source": [
    "conn = sqlite3.connect(\"../../data/checking-logs.sqlite\")"
   ]
  },
  {
   "cell_type": "markdown",
   "metadata": {},
   "source": [
    "<h2>create a new table datamart in the database by joining the tables pageviews and checker using only one query<h2>"
   ]
  },
  {
   "cell_type": "code",
   "execution_count": 3,
   "metadata": {},
   "outputs": [
    {
     "data": {
      "text/plain": [
       "<sqlite3.Cursor at 0x10acdbec0>"
      ]
     },
     "execution_count": 3,
     "metadata": {},
     "output_type": "execute_result"
    }
   ],
   "source": [
    "curs = conn.cursor()\n",
    "curs.execute(\"DROP TABLE IF EXISTS datamart\")\n",
    "curs.execute('''\n",
    "    CREATE TABLE datamart AS\n",
    "        SELECT checker.uid, checker.labname, MIN(timestamp) AS first_commit_ts, min AS first_view_ts\n",
    "        FROM checker\n",
    "        LEFT JOIN (\n",
    "            SELECT uid, MIN(datetime) AS min\n",
    "            FROM pageviews\n",
    "            GROUP BY uid \n",
    "        ) AS user_first_view\n",
    "        ON checker.uid = user_first_view.uid\n",
    "        WHERE status = 'ready' AND numTrials = 1 AND labname IN  ('laba04', 'laba04s', 'laba05', 'laba06', 'laba06s', 'project1') AND checker.uid LIKE 'user_%'\n",
    "        GROUP BY checker.uid, checker.labname\n",
    "    ''')"
   ]
  },
  {
   "cell_type": "markdown",
   "metadata": {},
   "source": [
    "<h2>using Pandas methods, create two dataframes: test and control<h2>"
   ]
  },
  {
   "cell_type": "code",
   "execution_count": 4,
   "metadata": {},
   "outputs": [],
   "source": [
    "datamart = pd.io.sql.read_sql(\"SELECT * FROM datamart\", conn,\n",
    "                               parse_dates=[\"first_commit_ts\",\"first_view_ts\"])"
   ]
  },
  {
   "cell_type": "code",
   "execution_count": 5,
   "metadata": {},
   "outputs": [],
   "source": [
    "test = datamart[datamart[\"first_view_ts\"].isna() == False]\n",
    "control = datamart[datamart[\"first_view_ts\"].isna()]"
   ]
  },
  {
   "cell_type": "code",
   "execution_count": 6,
   "metadata": {},
   "outputs": [
    {
     "name": "stderr",
     "output_type": "stream",
     "text": [
      "/var/folders/v0/x45rbc1s671ft5z86pdqjpvw0000gn/T/ipykernel_73413/175981500.py:1: SettingWithCopyWarning: \n",
      "A value is trying to be set on a copy of a slice from a DataFrame.\n",
      "Try using .loc[row_indexer,col_indexer] = value instead\n",
      "\n",
      "See the caveats in the documentation: https://pandas.pydata.org/pandas-docs/stable/user_guide/indexing.html#returning-a-view-versus-a-copy\n",
      "  control[\"first_view_ts\"] = test[\"first_view_ts\"].mean()\n"
     ]
    }
   ],
   "source": [
    "control[\"first_view_ts\"] = test[\"first_view_ts\"].mean()"
   ]
  },
  {
   "cell_type": "code",
   "execution_count": 7,
   "metadata": {},
   "outputs": [
    {
     "data": {
      "text/plain": [
       "81"
      ]
     },
     "execution_count": 7,
     "metadata": {},
     "output_type": "execute_result"
    }
   ],
   "source": [
    "test.to_sql(\"test\", conn, if_exists=\"replace\", index=False)\n",
    "control.to_sql(\"control\", conn, if_exists=\"replace\", index=False)\n"
   ]
  },
  {
   "cell_type": "markdown",
   "metadata": {},
   "source": [
    "<h2>close the connection<h2>"
   ]
  },
  {
   "cell_type": "code",
   "execution_count": 8,
   "metadata": {},
   "outputs": [],
   "source": [
    "conn.close()"
   ]
  },
  {
   "cell_type": "markdown",
   "metadata": {},
   "source": []
  }
 ],
 "metadata": {
  "kernelspec": {
   "display_name": ".venv",
   "language": "python",
   "name": "python3"
  },
  "language_info": {
   "codemirror_mode": {
    "name": "ipython",
    "version": 3
   },
   "file_extension": ".py",
   "mimetype": "text/x-python",
   "name": "python",
   "nbconvert_exporter": "python",
   "pygments_lexer": "ipython3",
   "version": "3.13.1"
  }
 },
 "nbformat": 4,
 "nbformat_minor": 2
}
