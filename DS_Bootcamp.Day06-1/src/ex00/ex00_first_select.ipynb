{
 "cells": [
  {
   "cell_type": "markdown",
   "metadata": {},
   "source": [
    "<h1>Select<h1>"
   ]
  },
  {
   "cell_type": "code",
   "execution_count": 1,
   "metadata": {},
   "outputs": [],
   "source": [
    "import pandas as pd\n",
    "import sqlite3"
   ]
  },
  {
   "cell_type": "markdown",
   "metadata": {},
   "source": [
    "<h2>create a connection to the database using the library sqlite3<h2>"
   ]
  },
  {
   "cell_type": "code",
   "execution_count": 7,
   "metadata": {},
   "outputs": [],
   "source": [
    "conn = sqlite3.connect(\"../../data/checking-logs.sqlite\")"
   ]
  },
  {
   "cell_type": "markdown",
   "metadata": {},
   "source": [
    "<h2>get the schema of the table pageviews using pd.io.sql.read_sql and the query \"PRAGMA table_info(pageviews);\"<h2>"
   ]
  },
  {
   "cell_type": "code",
   "execution_count": 8,
   "metadata": {},
   "outputs": [
    {
     "data": {
      "application/vnd.microsoft.datawrangler.viewer.v0+json": {
       "columns": [
        {
         "name": "index",
         "rawType": "int64",
         "type": "integer"
        },
        {
         "name": "cid",
         "rawType": "int64",
         "type": "integer"
        },
        {
         "name": "name",
         "rawType": "object",
         "type": "string"
        },
        {
         "name": "type",
         "rawType": "object",
         "type": "string"
        },
        {
         "name": "notnull",
         "rawType": "int64",
         "type": "integer"
        },
        {
         "name": "dflt_value",
         "rawType": "object",
         "type": "unknown"
        },
        {
         "name": "pk",
         "rawType": "int64",
         "type": "integer"
        }
       ],
       "conversionMethod": "pd.DataFrame",
       "ref": "d519483a-dfc6-4407-8390-1d171059f97e",
       "rows": [
        [
         "0",
         "0",
         "index",
         "INTEGER",
         "0",
         null,
         "0"
        ],
        [
         "1",
         "1",
         "uid",
         "TEXT",
         "0",
         null,
         "0"
        ],
        [
         "2",
         "2",
         "datetime",
         "TIMESTAMP",
         "0",
         null,
         "0"
        ]
       ],
       "shape": {
        "columns": 6,
        "rows": 3
       }
      },
      "text/html": [
       "<div>\n",
       "<style scoped>\n",
       "    .dataframe tbody tr th:only-of-type {\n",
       "        vertical-align: middle;\n",
       "    }\n",
       "\n",
       "    .dataframe tbody tr th {\n",
       "        vertical-align: top;\n",
       "    }\n",
       "\n",
       "    .dataframe thead th {\n",
       "        text-align: right;\n",
       "    }\n",
       "</style>\n",
       "<table border=\"1\" class=\"dataframe\">\n",
       "  <thead>\n",
       "    <tr style=\"text-align: right;\">\n",
       "      <th></th>\n",
       "      <th>cid</th>\n",
       "      <th>name</th>\n",
       "      <th>type</th>\n",
       "      <th>notnull</th>\n",
       "      <th>dflt_value</th>\n",
       "      <th>pk</th>\n",
       "    </tr>\n",
       "  </thead>\n",
       "  <tbody>\n",
       "    <tr>\n",
       "      <th>0</th>\n",
       "      <td>0</td>\n",
       "      <td>index</td>\n",
       "      <td>INTEGER</td>\n",
       "      <td>0</td>\n",
       "      <td>None</td>\n",
       "      <td>0</td>\n",
       "    </tr>\n",
       "    <tr>\n",
       "      <th>1</th>\n",
       "      <td>1</td>\n",
       "      <td>uid</td>\n",
       "      <td>TEXT</td>\n",
       "      <td>0</td>\n",
       "      <td>None</td>\n",
       "      <td>0</td>\n",
       "    </tr>\n",
       "    <tr>\n",
       "      <th>2</th>\n",
       "      <td>2</td>\n",
       "      <td>datetime</td>\n",
       "      <td>TIMESTAMP</td>\n",
       "      <td>0</td>\n",
       "      <td>None</td>\n",
       "      <td>0</td>\n",
       "    </tr>\n",
       "  </tbody>\n",
       "</table>\n",
       "</div>"
      ],
      "text/plain": [
       "   cid      name       type  notnull dflt_value  pk\n",
       "0    0     index    INTEGER        0       None   0\n",
       "1    1       uid       TEXT        0       None   0\n",
       "2    2  datetime  TIMESTAMP        0       None   0"
      ]
     },
     "execution_count": 8,
     "metadata": {},
     "output_type": "execute_result"
    }
   ],
   "source": [
    "pd.io.sql.read_sql(\"PRAGMA table_info(pageviews);\", conn)"
   ]
  },
  {
   "cell_type": "markdown",
   "metadata": {},
   "source": [
    "<h2>get only the first 10 rows of the table pageviews to check what the table looks like<h2>"
   ]
  },
  {
   "cell_type": "code",
   "execution_count": 9,
   "metadata": {},
   "outputs": [
    {
     "data": {
      "application/vnd.microsoft.datawrangler.viewer.v0+json": {
       "columns": [
        {
         "name": "index",
         "rawType": "int64",
         "type": "integer"
        },
        {
         "name": "index",
         "rawType": "int64",
         "type": "integer"
        },
        {
         "name": "uid",
         "rawType": "object",
         "type": "string"
        },
        {
         "name": "datetime",
         "rawType": "object",
         "type": "string"
        }
       ],
       "conversionMethod": "pd.DataFrame",
       "ref": "602cfb18-8072-40bb-80fd-ee0f5f546845",
       "rows": [
        [
         "0",
         "0",
         "admin_1",
         "2020-04-17 12:01:08.463179"
        ],
        [
         "1",
         "1",
         "admin_1",
         "2020-04-17 12:01:23.743946"
        ],
        [
         "2",
         "2",
         "admin_3",
         "2020-04-17 12:17:39.287778"
        ],
        [
         "3",
         "3",
         "admin_3",
         "2020-04-17 12:17:40.001768"
        ],
        [
         "4",
         "4",
         "admin_1",
         "2020-04-17 12:27:30.646665"
        ],
        [
         "5",
         "5",
         "admin_1",
         "2020-04-17 12:35:44.884757"
        ],
        [
         "6",
         "6",
         "admin_1",
         "2020-04-17 12:35:52.735016"
        ],
        [
         "7",
         "7",
         "admin_3",
         "2020-04-17 12:36:21.401412"
        ],
        [
         "8",
         "8",
         "admin_3",
         "2020-04-17 12:36:22.023355"
        ],
        [
         "9",
         "9",
         "admin_1",
         "2020-04-17 13:55:19.129243"
        ]
       ],
       "shape": {
        "columns": 3,
        "rows": 10
       }
      },
      "text/html": [
       "<div>\n",
       "<style scoped>\n",
       "    .dataframe tbody tr th:only-of-type {\n",
       "        vertical-align: middle;\n",
       "    }\n",
       "\n",
       "    .dataframe tbody tr th {\n",
       "        vertical-align: top;\n",
       "    }\n",
       "\n",
       "    .dataframe thead th {\n",
       "        text-align: right;\n",
       "    }\n",
       "</style>\n",
       "<table border=\"1\" class=\"dataframe\">\n",
       "  <thead>\n",
       "    <tr style=\"text-align: right;\">\n",
       "      <th></th>\n",
       "      <th>index</th>\n",
       "      <th>uid</th>\n",
       "      <th>datetime</th>\n",
       "    </tr>\n",
       "  </thead>\n",
       "  <tbody>\n",
       "    <tr>\n",
       "      <th>0</th>\n",
       "      <td>0</td>\n",
       "      <td>admin_1</td>\n",
       "      <td>2020-04-17 12:01:08.463179</td>\n",
       "    </tr>\n",
       "    <tr>\n",
       "      <th>1</th>\n",
       "      <td>1</td>\n",
       "      <td>admin_1</td>\n",
       "      <td>2020-04-17 12:01:23.743946</td>\n",
       "    </tr>\n",
       "    <tr>\n",
       "      <th>2</th>\n",
       "      <td>2</td>\n",
       "      <td>admin_3</td>\n",
       "      <td>2020-04-17 12:17:39.287778</td>\n",
       "    </tr>\n",
       "    <tr>\n",
       "      <th>3</th>\n",
       "      <td>3</td>\n",
       "      <td>admin_3</td>\n",
       "      <td>2020-04-17 12:17:40.001768</td>\n",
       "    </tr>\n",
       "    <tr>\n",
       "      <th>4</th>\n",
       "      <td>4</td>\n",
       "      <td>admin_1</td>\n",
       "      <td>2020-04-17 12:27:30.646665</td>\n",
       "    </tr>\n",
       "    <tr>\n",
       "      <th>5</th>\n",
       "      <td>5</td>\n",
       "      <td>admin_1</td>\n",
       "      <td>2020-04-17 12:35:44.884757</td>\n",
       "    </tr>\n",
       "    <tr>\n",
       "      <th>6</th>\n",
       "      <td>6</td>\n",
       "      <td>admin_1</td>\n",
       "      <td>2020-04-17 12:35:52.735016</td>\n",
       "    </tr>\n",
       "    <tr>\n",
       "      <th>7</th>\n",
       "      <td>7</td>\n",
       "      <td>admin_3</td>\n",
       "      <td>2020-04-17 12:36:21.401412</td>\n",
       "    </tr>\n",
       "    <tr>\n",
       "      <th>8</th>\n",
       "      <td>8</td>\n",
       "      <td>admin_3</td>\n",
       "      <td>2020-04-17 12:36:22.023355</td>\n",
       "    </tr>\n",
       "    <tr>\n",
       "      <th>9</th>\n",
       "      <td>9</td>\n",
       "      <td>admin_1</td>\n",
       "      <td>2020-04-17 13:55:19.129243</td>\n",
       "    </tr>\n",
       "  </tbody>\n",
       "</table>\n",
       "</div>"
      ],
      "text/plain": [
       "   index      uid                    datetime\n",
       "0      0  admin_1  2020-04-17 12:01:08.463179\n",
       "1      1  admin_1  2020-04-17 12:01:23.743946\n",
       "2      2  admin_3  2020-04-17 12:17:39.287778\n",
       "3      3  admin_3  2020-04-17 12:17:40.001768\n",
       "4      4  admin_1  2020-04-17 12:27:30.646665\n",
       "5      5  admin_1  2020-04-17 12:35:44.884757\n",
       "6      6  admin_1  2020-04-17 12:35:52.735016\n",
       "7      7  admin_3  2020-04-17 12:36:21.401412\n",
       "8      8  admin_3  2020-04-17 12:36:22.023355\n",
       "9      9  admin_1  2020-04-17 13:55:19.129243"
      ]
     },
     "execution_count": 9,
     "metadata": {},
     "output_type": "execute_result"
    }
   ],
   "source": [
    "query = '''\n",
    "SELECT *\n",
    "FROM pageviews\n",
    "LIMIT 10\n",
    "'''\n",
    "pd.io.sql.read_sql(query, conn)"
   ]
  },
  {
   "cell_type": "markdown",
   "metadata": {},
   "source": [
    "<h2>get the subtable using only one query where:<h2>"
   ]
  },
  {
   "cell_type": "code",
   "execution_count": null,
   "metadata": {},
   "outputs": [
    {
     "data": {
      "application/vnd.microsoft.datawrangler.viewer.v0+json": {
       "columns": [
        {
         "name": "datetime",
         "rawType": "datetime64[ns]",
         "type": "datetime"
        },
        {
         "name": "uid",
         "rawType": "object",
         "type": "string"
        }
       ],
       "conversionMethod": "pd.DataFrame",
       "ref": "fbd60c36-c58e-4fe6-84c9-090a5186afb5",
       "rows": [
        [
         "2020-04-26 21:53:59.624136",
         "user_1"
        ],
        [
         "2020-04-26 22:06:19.478143",
         "user_1"
        ],
        [
         "2020-04-26 22:12:09.614497",
         "user_1"
        ],
        [
         "2020-04-30 19:29:01.831635",
         "user_1"
        ],
        [
         "2020-05-05 20:26:32.894852",
         "user_1"
        ],
        [
         "2020-05-07 18:51:12.029577",
         "user_1"
        ],
        [
         "2020-05-11 21:56:54.292312",
         "user_1"
        ],
        [
         "2020-05-14 22:56:14.464582",
         "user_1"
        ],
        [
         "2020-05-14 23:59:38.758438",
         "user_1"
        ],
        [
         "2020-05-15 00:05:27.798227",
         "user_1"
        ],
        [
         "2020-05-15 00:10:24.935904",
         "user_1"
        ],
        [
         "2020-05-15 00:15:44.150373",
         "user_1"
        ],
        [
         "2020-05-15 00:19:35.131440",
         "user_1"
        ],
        [
         "2020-05-15 00:38:19.284981",
         "user_1"
        ],
        [
         "2020-05-15 00:41:07.728365",
         "user_1"
        ],
        [
         "2020-05-15 00:54:53.756201",
         "user_1"
        ],
        [
         "2020-05-15 01:13:14.559654",
         "user_1"
        ],
        [
         "2020-05-15 01:23:22.504313",
         "user_1"
        ],
        [
         "2020-05-15 01:24:30.342494",
         "user_1"
        ],
        [
         "2020-05-15 08:16:03.918402",
         "user_1"
        ],
        [
         "2020-05-15 08:35:01.471463",
         "user_1"
        ],
        [
         "2020-05-15 09:02:24.999438",
         "user_1"
        ],
        [
         "2020-05-15 11:24:43.509570",
         "user_1"
        ],
        [
         "2020-05-15 14:14:07.055576",
         "user_1"
        ],
        [
         "2020-05-17 16:49:42.644164",
         "user_1"
        ],
        [
         "2020-05-17 16:51:16.050701",
         "user_1"
        ],
        [
         "2020-05-17 21:54:22.507380",
         "user_1"
        ],
        [
         "2020-05-20 15:24:14.569644",
         "user_1"
        ],
        [
         "2020-04-18 12:19:50.182714",
         "user_10"
        ],
        [
         "2020-04-25 11:41:03.201654",
         "user_10"
        ],
        [
         "2020-05-04 14:31:38.856162",
         "user_10"
        ],
        [
         "2020-05-14 15:24:36.709632",
         "user_10"
        ],
        [
         "2020-05-14 16:29:34.677307",
         "user_10"
        ],
        [
         "2020-05-14 17:14:08.014705",
         "user_10"
        ],
        [
         "2020-05-14 19:41:07.051866",
         "user_10"
        ],
        [
         "2020-05-14 21:55:50.237031",
         "user_10"
        ],
        [
         "2020-05-14 22:17:15.727746",
         "user_10"
        ],
        [
         "2020-05-14 22:22:56.914387",
         "user_10"
        ],
        [
         "2020-05-14 22:26:06.539092",
         "user_10"
        ],
        [
         "2020-05-14 22:26:08.965379",
         "user_10"
        ],
        [
         "2020-05-14 22:26:12.706907",
         "user_10"
        ],
        [
         "2020-05-14 22:26:13.739043",
         "user_10"
        ],
        [
         "2020-05-14 22:26:14.671998",
         "user_10"
        ],
        [
         "2020-05-14 22:26:15.480116",
         "user_10"
        ],
        [
         "2020-05-14 22:26:16.277068",
         "user_10"
        ],
        [
         "2020-05-14 22:26:17.188118",
         "user_10"
        ],
        [
         "2020-05-14 22:26:22.514838",
         "user_10"
        ],
        [
         "2020-05-14 22:26:26.330241",
         "user_10"
        ],
        [
         "2020-05-14 22:32:41.300637",
         "user_10"
        ],
        [
         "2020-05-14 22:33:07.477907",
         "user_10"
        ]
       ],
       "shape": {
        "columns": 1,
        "rows": 987
       }
      },
      "text/html": [
       "<div>\n",
       "<style scoped>\n",
       "    .dataframe tbody tr th:only-of-type {\n",
       "        vertical-align: middle;\n",
       "    }\n",
       "\n",
       "    .dataframe tbody tr th {\n",
       "        vertical-align: top;\n",
       "    }\n",
       "\n",
       "    .dataframe thead th {\n",
       "        text-align: right;\n",
       "    }\n",
       "</style>\n",
       "<table border=\"1\" class=\"dataframe\">\n",
       "  <thead>\n",
       "    <tr style=\"text-align: right;\">\n",
       "      <th></th>\n",
       "      <th>uid</th>\n",
       "    </tr>\n",
       "    <tr>\n",
       "      <th>datetime</th>\n",
       "      <th></th>\n",
       "    </tr>\n",
       "  </thead>\n",
       "  <tbody>\n",
       "    <tr>\n",
       "      <th>2020-04-26 21:53:59.624136</th>\n",
       "      <td>user_1</td>\n",
       "    </tr>\n",
       "    <tr>\n",
       "      <th>2020-04-26 22:06:19.478143</th>\n",
       "      <td>user_1</td>\n",
       "    </tr>\n",
       "    <tr>\n",
       "      <th>2020-04-26 22:12:09.614497</th>\n",
       "      <td>user_1</td>\n",
       "    </tr>\n",
       "    <tr>\n",
       "      <th>2020-04-30 19:29:01.831635</th>\n",
       "      <td>user_1</td>\n",
       "    </tr>\n",
       "    <tr>\n",
       "      <th>2020-05-05 20:26:32.894852</th>\n",
       "      <td>user_1</td>\n",
       "    </tr>\n",
       "    <tr>\n",
       "      <th>...</th>\n",
       "      <td>...</td>\n",
       "    </tr>\n",
       "    <tr>\n",
       "      <th>2020-04-29 16:51:21.877630</th>\n",
       "      <td>user_30</td>\n",
       "    </tr>\n",
       "    <tr>\n",
       "      <th>2020-05-09 20:30:47.034282</th>\n",
       "      <td>user_30</td>\n",
       "    </tr>\n",
       "    <tr>\n",
       "      <th>2020-05-22 11:30:18.368990</th>\n",
       "      <td>user_5</td>\n",
       "    </tr>\n",
       "    <tr>\n",
       "      <th>2020-05-21 16:28:28.217529</th>\n",
       "      <td>user_9</td>\n",
       "    </tr>\n",
       "    <tr>\n",
       "      <th>2020-05-21 16:36:40.915488</th>\n",
       "      <td>user_9</td>\n",
       "    </tr>\n",
       "  </tbody>\n",
       "</table>\n",
       "<p>987 rows × 1 columns</p>\n",
       "</div>"
      ],
      "text/plain": [
       "                                uid\n",
       "datetime                           \n",
       "2020-04-26 21:53:59.624136   user_1\n",
       "2020-04-26 22:06:19.478143   user_1\n",
       "2020-04-26 22:12:09.614497   user_1\n",
       "2020-04-30 19:29:01.831635   user_1\n",
       "2020-05-05 20:26:32.894852   user_1\n",
       "...                             ...\n",
       "2020-04-29 16:51:21.877630  user_30\n",
       "2020-05-09 20:30:47.034282  user_30\n",
       "2020-05-22 11:30:18.368990   user_5\n",
       "2020-05-21 16:28:28.217529   user_9\n",
       "2020-05-21 16:36:40.915488   user_9\n",
       "\n",
       "[987 rows x 1 columns]"
      ]
     },
     "execution_count": 18,
     "metadata": {},
     "output_type": "execute_result"
    }
   ],
   "source": [
    "query = '''\n",
    "SELECT \n",
    "    uid,\n",
    "    datetime\n",
    "FROM pageviews\n",
    "WHERE uid LIKE \"user_%\"\n",
    "ORDER BY uid ASC\n",
    "'''\n",
    "pd.io.sql.read_sql(query, conn, parse_dates=[\"datetime\"], index_col=\"datetime\")"
   ]
  },
  {
   "cell_type": "markdown",
   "metadata": {},
   "source": [
    "<h2>close the connection to the database<h2>"
   ]
  },
  {
   "cell_type": "code",
   "execution_count": 19,
   "metadata": {},
   "outputs": [],
   "source": [
    "conn.close()"
   ]
  }
 ],
 "metadata": {
  "kernelspec": {
   "display_name": ".venv",
   "language": "python",
   "name": "python3"
  },
  "language_info": {
   "codemirror_mode": {
    "name": "ipython",
    "version": 3
   },
   "file_extension": ".py",
   "mimetype": "text/x-python",
   "name": "python",
   "nbconvert_exporter": "python",
   "pygments_lexer": "ipython3",
   "version": "3.13.1"
  }
 },
 "nbformat": 4,
 "nbformat_minor": 2
}
