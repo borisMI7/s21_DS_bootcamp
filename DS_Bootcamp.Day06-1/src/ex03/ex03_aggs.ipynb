{
 "cells": [
  {
   "cell_type": "markdown",
   "metadata": {},
   "source": [
    "<h1>Aggregations<h1>"
   ]
  },
  {
   "cell_type": "code",
   "execution_count": 1,
   "metadata": {},
   "outputs": [],
   "source": [
    "import pandas as pd\n",
    "import sqlite3"
   ]
  },
  {
   "cell_type": "markdown",
   "metadata": {},
   "source": [
    "<h2>create a connection to the database using the library sqlite3<h2>"
   ]
  },
  {
   "cell_type": "code",
   "execution_count": 3,
   "metadata": {},
   "outputs": [],
   "source": [
    "conn = sqlite3.connect(\"../../data/checking-logs.sqlite\")"
   ]
  },
  {
   "cell_type": "markdown",
   "metadata": {},
   "source": [
    "<h2>get the schema of the table test<h2>"
   ]
  },
  {
   "cell_type": "code",
   "execution_count": 5,
   "metadata": {},
   "outputs": [
    {
     "data": {
      "application/vnd.microsoft.datawrangler.viewer.v0+json": {
       "columns": [
        {
         "name": "index",
         "rawType": "int64",
         "type": "integer"
        },
        {
         "name": "cid",
         "rawType": "int64",
         "type": "integer"
        },
        {
         "name": "name",
         "rawType": "object",
         "type": "string"
        },
        {
         "name": "type",
         "rawType": "object",
         "type": "string"
        },
        {
         "name": "notnull",
         "rawType": "int64",
         "type": "integer"
        },
        {
         "name": "dflt_value",
         "rawType": "object",
         "type": "unknown"
        },
        {
         "name": "pk",
         "rawType": "int64",
         "type": "integer"
        }
       ],
       "conversionMethod": "pd.DataFrame",
       "ref": "fe0976f1-dff7-4976-918b-31b3d3ea7685",
       "rows": [
        [
         "0",
         "0",
         "uid",
         "TEXT",
         "0",
         null,
         "0"
        ],
        [
         "1",
         "1",
         "labname",
         "TEXT",
         "0",
         null,
         "0"
        ],
        [
         "2",
         "2",
         "first_commit_ts",
         "TIMESTAMP",
         "0",
         null,
         "0"
        ],
        [
         "3",
         "3",
         "first_view_ts",
         "TIMESTAMP",
         "0",
         null,
         "0"
        ]
       ],
       "shape": {
        "columns": 6,
        "rows": 4
       }
      },
      "text/html": [
       "<div>\n",
       "<style scoped>\n",
       "    .dataframe tbody tr th:only-of-type {\n",
       "        vertical-align: middle;\n",
       "    }\n",
       "\n",
       "    .dataframe tbody tr th {\n",
       "        vertical-align: top;\n",
       "    }\n",
       "\n",
       "    .dataframe thead th {\n",
       "        text-align: right;\n",
       "    }\n",
       "</style>\n",
       "<table border=\"1\" class=\"dataframe\">\n",
       "  <thead>\n",
       "    <tr style=\"text-align: right;\">\n",
       "      <th></th>\n",
       "      <th>cid</th>\n",
       "      <th>name</th>\n",
       "      <th>type</th>\n",
       "      <th>notnull</th>\n",
       "      <th>dflt_value</th>\n",
       "      <th>pk</th>\n",
       "    </tr>\n",
       "  </thead>\n",
       "  <tbody>\n",
       "    <tr>\n",
       "      <th>0</th>\n",
       "      <td>0</td>\n",
       "      <td>uid</td>\n",
       "      <td>TEXT</td>\n",
       "      <td>0</td>\n",
       "      <td>None</td>\n",
       "      <td>0</td>\n",
       "    </tr>\n",
       "    <tr>\n",
       "      <th>1</th>\n",
       "      <td>1</td>\n",
       "      <td>labname</td>\n",
       "      <td>TEXT</td>\n",
       "      <td>0</td>\n",
       "      <td>None</td>\n",
       "      <td>0</td>\n",
       "    </tr>\n",
       "    <tr>\n",
       "      <th>2</th>\n",
       "      <td>2</td>\n",
       "      <td>first_commit_ts</td>\n",
       "      <td>TIMESTAMP</td>\n",
       "      <td>0</td>\n",
       "      <td>None</td>\n",
       "      <td>0</td>\n",
       "    </tr>\n",
       "    <tr>\n",
       "      <th>3</th>\n",
       "      <td>3</td>\n",
       "      <td>first_view_ts</td>\n",
       "      <td>TIMESTAMP</td>\n",
       "      <td>0</td>\n",
       "      <td>None</td>\n",
       "      <td>0</td>\n",
       "    </tr>\n",
       "  </tbody>\n",
       "</table>\n",
       "</div>"
      ],
      "text/plain": [
       "   cid             name       type  notnull dflt_value  pk\n",
       "0    0              uid       TEXT        0       None   0\n",
       "1    1          labname       TEXT        0       None   0\n",
       "2    2  first_commit_ts  TIMESTAMP        0       None   0\n",
       "3    3    first_view_ts  TIMESTAMP        0       None   0"
      ]
     },
     "execution_count": 5,
     "metadata": {},
     "output_type": "execute_result"
    }
   ],
   "source": [
    "pd.io.sql.read_sql(\"PRAGMA table_info(test);\", conn)"
   ]
  },
  {
   "cell_type": "markdown",
   "metadata": {},
   "source": [
    "<h2>get only the first 10 rows of the table test to check what the table looks like<h2>"
   ]
  },
  {
   "cell_type": "code",
   "execution_count": 6,
   "metadata": {},
   "outputs": [
    {
     "data": {
      "application/vnd.microsoft.datawrangler.viewer.v0+json": {
       "columns": [
        {
         "name": "index",
         "rawType": "int64",
         "type": "integer"
        },
        {
         "name": "uid",
         "rawType": "object",
         "type": "string"
        },
        {
         "name": "labname",
         "rawType": "object",
         "type": "string"
        },
        {
         "name": "first_commit_ts",
         "rawType": "object",
         "type": "string"
        },
        {
         "name": "first_view_ts",
         "rawType": "object",
         "type": "string"
        }
       ],
       "conversionMethod": "pd.DataFrame",
       "ref": "75452431-aa07-447d-b823-8c44dfb184d3",
       "rows": [
        [
         "0",
         "user_1",
         "laba04",
         "2020-04-26 17:06:18.462708",
         "2020-04-26 21:53:59.624136"
        ],
        [
         "1",
         "user_1",
         "laba04s",
         "2020-04-26 17:12:11.843671",
         "2020-04-26 21:53:59.624136"
        ],
        [
         "2",
         "user_1",
         "laba05",
         "2020-05-02 19:15:18.540185",
         "2020-04-26 21:53:59.624136"
        ],
        [
         "3",
         "user_1",
         "laba06",
         "2020-05-17 16:26:35.268534",
         "2020-04-26 21:53:59.624136"
        ],
        [
         "4",
         "user_1",
         "laba06s",
         "2020-05-20 12:23:37.289724",
         "2020-04-26 21:53:59.624136"
        ],
        [
         "5",
         "user_1",
         "project1",
         "2020-05-14 20:56:08.898880",
         "2020-04-26 21:53:59.624136"
        ],
        [
         "6",
         "user_10",
         "laba04",
         "2020-04-25 08:24:52.696624",
         "2020-04-18 12:19:50.182714"
        ],
        [
         "7",
         "user_10",
         "laba04s",
         "2020-04-25 08:37:54.604222",
         "2020-04-18 12:19:50.182714"
        ],
        [
         "8",
         "user_10",
         "laba05",
         "2020-05-01 19:27:26.063245",
         "2020-04-18 12:19:50.182714"
        ],
        [
         "9",
         "user_10",
         "laba06",
         "2020-05-19 11:39:28.885637",
         "2020-04-18 12:19:50.182714"
        ]
       ],
       "shape": {
        "columns": 4,
        "rows": 10
       }
      },
      "text/html": [
       "<div>\n",
       "<style scoped>\n",
       "    .dataframe tbody tr th:only-of-type {\n",
       "        vertical-align: middle;\n",
       "    }\n",
       "\n",
       "    .dataframe tbody tr th {\n",
       "        vertical-align: top;\n",
       "    }\n",
       "\n",
       "    .dataframe thead th {\n",
       "        text-align: right;\n",
       "    }\n",
       "</style>\n",
       "<table border=\"1\" class=\"dataframe\">\n",
       "  <thead>\n",
       "    <tr style=\"text-align: right;\">\n",
       "      <th></th>\n",
       "      <th>uid</th>\n",
       "      <th>labname</th>\n",
       "      <th>first_commit_ts</th>\n",
       "      <th>first_view_ts</th>\n",
       "    </tr>\n",
       "  </thead>\n",
       "  <tbody>\n",
       "    <tr>\n",
       "      <th>0</th>\n",
       "      <td>user_1</td>\n",
       "      <td>laba04</td>\n",
       "      <td>2020-04-26 17:06:18.462708</td>\n",
       "      <td>2020-04-26 21:53:59.624136</td>\n",
       "    </tr>\n",
       "    <tr>\n",
       "      <th>1</th>\n",
       "      <td>user_1</td>\n",
       "      <td>laba04s</td>\n",
       "      <td>2020-04-26 17:12:11.843671</td>\n",
       "      <td>2020-04-26 21:53:59.624136</td>\n",
       "    </tr>\n",
       "    <tr>\n",
       "      <th>2</th>\n",
       "      <td>user_1</td>\n",
       "      <td>laba05</td>\n",
       "      <td>2020-05-02 19:15:18.540185</td>\n",
       "      <td>2020-04-26 21:53:59.624136</td>\n",
       "    </tr>\n",
       "    <tr>\n",
       "      <th>3</th>\n",
       "      <td>user_1</td>\n",
       "      <td>laba06</td>\n",
       "      <td>2020-05-17 16:26:35.268534</td>\n",
       "      <td>2020-04-26 21:53:59.624136</td>\n",
       "    </tr>\n",
       "    <tr>\n",
       "      <th>4</th>\n",
       "      <td>user_1</td>\n",
       "      <td>laba06s</td>\n",
       "      <td>2020-05-20 12:23:37.289724</td>\n",
       "      <td>2020-04-26 21:53:59.624136</td>\n",
       "    </tr>\n",
       "    <tr>\n",
       "      <th>5</th>\n",
       "      <td>user_1</td>\n",
       "      <td>project1</td>\n",
       "      <td>2020-05-14 20:56:08.898880</td>\n",
       "      <td>2020-04-26 21:53:59.624136</td>\n",
       "    </tr>\n",
       "    <tr>\n",
       "      <th>6</th>\n",
       "      <td>user_10</td>\n",
       "      <td>laba04</td>\n",
       "      <td>2020-04-25 08:24:52.696624</td>\n",
       "      <td>2020-04-18 12:19:50.182714</td>\n",
       "    </tr>\n",
       "    <tr>\n",
       "      <th>7</th>\n",
       "      <td>user_10</td>\n",
       "      <td>laba04s</td>\n",
       "      <td>2020-04-25 08:37:54.604222</td>\n",
       "      <td>2020-04-18 12:19:50.182714</td>\n",
       "    </tr>\n",
       "    <tr>\n",
       "      <th>8</th>\n",
       "      <td>user_10</td>\n",
       "      <td>laba05</td>\n",
       "      <td>2020-05-01 19:27:26.063245</td>\n",
       "      <td>2020-04-18 12:19:50.182714</td>\n",
       "    </tr>\n",
       "    <tr>\n",
       "      <th>9</th>\n",
       "      <td>user_10</td>\n",
       "      <td>laba06</td>\n",
       "      <td>2020-05-19 11:39:28.885637</td>\n",
       "      <td>2020-04-18 12:19:50.182714</td>\n",
       "    </tr>\n",
       "  </tbody>\n",
       "</table>\n",
       "</div>"
      ],
      "text/plain": [
       "       uid   labname             first_commit_ts               first_view_ts\n",
       "0   user_1    laba04  2020-04-26 17:06:18.462708  2020-04-26 21:53:59.624136\n",
       "1   user_1   laba04s  2020-04-26 17:12:11.843671  2020-04-26 21:53:59.624136\n",
       "2   user_1    laba05  2020-05-02 19:15:18.540185  2020-04-26 21:53:59.624136\n",
       "3   user_1    laba06  2020-05-17 16:26:35.268534  2020-04-26 21:53:59.624136\n",
       "4   user_1   laba06s  2020-05-20 12:23:37.289724  2020-04-26 21:53:59.624136\n",
       "5   user_1  project1  2020-05-14 20:56:08.898880  2020-04-26 21:53:59.624136\n",
       "6  user_10    laba04  2020-04-25 08:24:52.696624  2020-04-18 12:19:50.182714\n",
       "7  user_10   laba04s  2020-04-25 08:37:54.604222  2020-04-18 12:19:50.182714\n",
       "8  user_10    laba05  2020-05-01 19:27:26.063245  2020-04-18 12:19:50.182714\n",
       "9  user_10    laba06  2020-05-19 11:39:28.885637  2020-04-18 12:19:50.182714"
      ]
     },
     "execution_count": 6,
     "metadata": {},
     "output_type": "execute_result"
    }
   ],
   "source": [
    "pd.io.sql.read_sql(\"SELECT * FROM test LIMIT 10\", conn)"
   ]
  },
  {
   "cell_type": "markdown",
   "metadata": {},
   "source": [
    "<h2>find among all the users the minimum value of the delta between the first commit of the user and the deadline of the corresponding lab using only one query<h2>"
   ]
  },
  {
   "cell_type": "code",
   "execution_count": 33,
   "metadata": {},
   "outputs": [],
   "source": [
    "query = '''\n",
    "    SELECT uid, (unixepoch(first_commit_ts) - deadlines)/3600 AS delta\n",
    "    FROM test\n",
    "        JOIN deadlines ON  test.labname = deadlines.labs\n",
    "    WHERE labs <> 'project1'\n",
    "    ORDER BY delta ASC\n",
    "    LIMIT 1\n",
    "\n",
    "'''\n",
    "df_min = pd.io.sql.read_sql(query, conn)"
   ]
  },
  {
   "cell_type": "markdown",
   "metadata": {},
   "source": [
    "<h2>do the same thing, but for the maximum, using only one query, the dataframe name is df_max<h2>"
   ]
  },
  {
   "cell_type": "code",
   "execution_count": 35,
   "metadata": {},
   "outputs": [],
   "source": [
    "query = '''\n",
    "    SELECT uid, (unixepoch(first_commit_ts) - deadlines)/3600 AS delta\n",
    "    FROM test\n",
    "        JOIN deadlines ON  test.labname = deadlines.labs\n",
    "    WHERE labs <> 'project1'\n",
    "    ORDER BY delta DESC\n",
    "    LIMIT 1\n",
    "\n",
    "'''\n",
    "df_max = pd.io.sql.read_sql(query, conn)"
   ]
  },
  {
   "cell_type": "markdown",
   "metadata": {},
   "source": [
    "<h2>do the same thing but for the average, using only one query, this time your dataframe should not include the uid column, and the dataframe name is df_avg<h2>"
   ]
  },
  {
   "cell_type": "code",
   "execution_count": null,
   "metadata": {},
   "outputs": [],
   "source": [
    "query = '''\n",
    "    SELECT AVG(unixepoch(first_commit_ts) - deadlines)/3600 AS delta\n",
    "    FROM test\n",
    "        JOIN deadlines ON  test.labname = deadlines.labs\n",
    "    WHERE labs <> 'project1'\n",
    "\n",
    "'''\n",
    "df_avg = pd.io.sql.read_sql(query, conn)"
   ]
  },
  {
   "cell_type": "markdown",
   "metadata": {},
   "source": [
    "<h2>we want to test the hypothesis that the users who visited the newsfeed just a few times have the lower delta between the first commit and the deadline. To do this, you need to calculate the correlation coefficient between the number of pageviews and the difference<h2>"
   ]
  },
  {
   "cell_type": "code",
   "execution_count": 62,
   "metadata": {},
   "outputs": [],
   "source": [
    "query = '''\n",
    "    SELECT test.uid, AVG(unixepoch(first_commit_ts)-deadlines) AS avg_diff, \n",
    "        views AS pageviews\n",
    "    FROM test\n",
    "        JOIN deadlines ON test.labname = deadlines.labs\n",
    "        JOIN (\n",
    "            SELECT pageviews.uid, COUNT(datetime) AS views\n",
    "            FROM pageviews\n",
    "            GROUP BY uid\n",
    "        ) AS pageviews_per_user ON test.uid = pageviews_per_user.uid\n",
    "    WHERE labs <> 'project1'\n",
    "    GROUP BY test.uid\n",
    "\n",
    "'''\n",
    "views_diff = pd.io.sql.read_sql(query, conn)"
   ]
  },
  {
   "cell_type": "code",
   "execution_count": 64,
   "metadata": {},
   "outputs": [
    {
     "data": {
      "application/vnd.microsoft.datawrangler.viewer.v0+json": {
       "columns": [
        {
         "name": "index",
         "rawType": "object",
         "type": "string"
        },
        {
         "name": "avg_diff",
         "rawType": "float64",
         "type": "float"
        },
        {
         "name": "pageviews",
         "rawType": "float64",
         "type": "float"
        }
       ],
       "conversionMethod": "pd.DataFrame",
       "ref": "89ee4ff2-38c3-4bb1-b760-eb8d6772a522",
       "rows": [
        [
         "avg_diff",
         "1.0",
         "-0.2791434642542656"
        ],
        [
         "pageviews",
         "-0.2791434642542656",
         "1.0"
        ]
       ],
       "shape": {
        "columns": 2,
        "rows": 2
       }
      },
      "text/html": [
       "<div>\n",
       "<style scoped>\n",
       "    .dataframe tbody tr th:only-of-type {\n",
       "        vertical-align: middle;\n",
       "    }\n",
       "\n",
       "    .dataframe tbody tr th {\n",
       "        vertical-align: top;\n",
       "    }\n",
       "\n",
       "    .dataframe thead th {\n",
       "        text-align: right;\n",
       "    }\n",
       "</style>\n",
       "<table border=\"1\" class=\"dataframe\">\n",
       "  <thead>\n",
       "    <tr style=\"text-align: right;\">\n",
       "      <th></th>\n",
       "      <th>avg_diff</th>\n",
       "      <th>pageviews</th>\n",
       "    </tr>\n",
       "  </thead>\n",
       "  <tbody>\n",
       "    <tr>\n",
       "      <th>avg_diff</th>\n",
       "      <td>1.000000</td>\n",
       "      <td>-0.279143</td>\n",
       "    </tr>\n",
       "    <tr>\n",
       "      <th>pageviews</th>\n",
       "      <td>-0.279143</td>\n",
       "      <td>1.000000</td>\n",
       "    </tr>\n",
       "  </tbody>\n",
       "</table>\n",
       "</div>"
      ],
      "text/plain": [
       "           avg_diff  pageviews\n",
       "avg_diff   1.000000  -0.279143\n",
       "pageviews -0.279143   1.000000"
      ]
     },
     "execution_count": 64,
     "metadata": {},
     "output_type": "execute_result"
    }
   ],
   "source": [
    "views_diff[[\"avg_diff\", \"pageviews\"]].corr()"
   ]
  },
  {
   "cell_type": "markdown",
   "metadata": {},
   "source": [
    "<h2>close the connection<h2>"
   ]
  },
  {
   "cell_type": "code",
   "execution_count": 65,
   "metadata": {},
   "outputs": [],
   "source": [
    "conn.close()"
   ]
  }
 ],
 "metadata": {
  "kernelspec": {
   "display_name": ".venv",
   "language": "python",
   "name": "python3"
  },
  "language_info": {
   "codemirror_mode": {
    "name": "ipython",
    "version": 3
   },
   "file_extension": ".py",
   "mimetype": "text/x-python",
   "name": "python",
   "nbconvert_exporter": "python",
   "pygments_lexer": "ipython3",
   "version": "3.13.1"
  }
 },
 "nbformat": 4,
 "nbformat_minor": 2
}
