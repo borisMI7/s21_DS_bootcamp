{
 "cells": [
  {
   "cell_type": "markdown",
   "metadata": {},
   "source": [
    "<h1>Pandas optimizations<h1>"
   ]
  },
  {
   "cell_type": "code",
   "execution_count": 2,
   "metadata": {},
   "outputs": [],
   "source": [
    "import pandas as pd\n",
    "import gc"
   ]
  },
  {
   "cell_type": "markdown",
   "metadata": {},
   "source": [
    "<h2>read the fines.csv that you saved in the previous exercise<h2>"
   ]
  },
  {
   "cell_type": "code",
   "execution_count": 48,
   "metadata": {},
   "outputs": [],
   "source": [
    "df = pd.read_csv(\"../../data/fines.csv\")"
   ]
  },
  {
   "cell_type": "markdown",
   "metadata": {},
   "source": [
    "<h2>iterations: in all the following subtasks, you need to calculate fines/refund*year for each row and create a new column with the calculated data and measure the time using the magic command %%timeit in the cell<h2>"
   ]
  },
  {
   "cell_type": "code",
   "execution_count": null,
   "metadata": {},
   "outputs": [
    {
     "name": "stdout",
     "output_type": "stream",
     "text": [
      "30.8 ms ± 118 μs per loop (mean ± std. dev. of 7 runs, 10 loops each)\n"
     ]
    }
   ],
   "source": [
    "def loop(df):\n",
    "    l = []\n",
    "    for i in range(0, len(df)):\n",
    "        value = df.iloc[i][] / df.iloc[i][\"Refund\"] * df.iloc[i][\"Year\"]\n",
    "        l.append(value)\n",
    "    return l\n",
    "\n",
    "%timeit df[\"CalculatedData\"] = loop(df)\n",
    "        "
   ]
  },
  {
   "cell_type": "code",
   "execution_count": null,
   "metadata": {},
   "outputs": [
    {
     "name": "stdout",
     "output_type": "stream",
     "text": [
      "10.6 ms ± 69.7 μs per loop (mean ± std. dev. of 7 runs, 100 loops each)\n"
     ]
    }
   ],
   "source": [
    "def iterrows(df):\n",
    "    l = []\n",
    "    for row in df.iterrows():\n",
    "        value = row[1][\"Fines\"] / row[1][\"Refund\"] * row[1][\"Year\"]\n",
    "        l.append(value)\n",
    "    return l\n",
    "%timeit df[\"CalculatedData\"] = iterrows(df)"
   ]
  },
  {
   "cell_type": "code",
   "execution_count": 26,
   "metadata": {},
   "outputs": [
    {
     "name": "stdout",
     "output_type": "stream",
     "text": [
      "3.15 ms ± 263 μs per loop (mean ± std. dev. of 7 runs, 100 loops each)\n"
     ]
    }
   ],
   "source": [
    "%timeit df[\"CalculatedData\"] = df.apply(lambda row: row[\"Fines\"] / row[\"Refund\"] * row[\"Year\"], axis=1)"
   ]
  },
  {
   "cell_type": "code",
   "execution_count": 29,
   "metadata": {},
   "outputs": [
    {
     "name": "stdout",
     "output_type": "stream",
     "text": [
      "54.3 μs ± 1.62 μs per loop (mean ± std. dev. of 7 runs, 10,000 loops each)\n"
     ]
    }
   ],
   "source": [
    "%timeit df[\"CalculatedData\"] = df[\"Fines\"] / df[\"Refund\"] * df[\"Year\"]"
   ]
  },
  {
   "cell_type": "code",
   "execution_count": 37,
   "metadata": {},
   "outputs": [
    {
     "name": "stdout",
     "output_type": "stream",
     "text": [
      "28.6 μs ± 148 ns per loop (mean ± std. dev. of 7 runs, 10,000 loops each)\n"
     ]
    }
   ],
   "source": [
    "%timeit df[\"CalculatedData\"] = df[\"Fines\"].values / df[\"Refund\"].values * df[\"Year\"].values"
   ]
  },
  {
   "cell_type": "markdown",
   "metadata": {},
   "source": [
    "<h2>indexing: measure the time using the magic command %%timeit in the cell<h2>"
   ]
  },
  {
   "cell_type": "code",
   "execution_count": 49,
   "metadata": {},
   "outputs": [
    {
     "name": "stdout",
     "output_type": "stream",
     "text": [
      "79.7 μs ± 2.27 μs per loop (mean ± std. dev. of 7 runs, 10,000 loops each)\n",
      "38.4 μs ± 1.04 μs per loop (mean ± std. dev. of 7 runs, 10,000 loops each)\n"
     ]
    }
   ],
   "source": [
    "%timeit df[df[\"CarNumber\"] == \"Y163O8161RUS\"]\n",
    "df.set_index(\"CarNumber\", inplace=True)\n",
    "%timeit df.loc[\"Y163O8161RUS\"]\n"
   ]
  },
  {
   "cell_type": "markdown",
   "metadata": {},
   "source": [
    "<h2>downcasting<h2>"
   ]
  },
  {
   "cell_type": "code",
   "execution_count": 50,
   "metadata": {},
   "outputs": [
    {
     "name": "stdout",
     "output_type": "stream",
     "text": [
      "<class 'pandas.core.frame.DataFrame'>\n",
      "Index: 930 entries, Y163O8161RUS to Q912S2345RUS\n",
      "Data columns (total 5 columns):\n",
      " #   Column  Non-Null Count  Dtype  \n",
      "---  ------  --------------  -----  \n",
      " 0   Refund  930 non-null    int64  \n",
      " 1   Fines   930 non-null    float64\n",
      " 2   Make    930 non-null    object \n",
      " 3   Model   918 non-null    object \n",
      " 4   Year    930 non-null    int64  \n",
      "dtypes: float64(1), int64(2), object(2)\n",
      "memory usage: 207.0 KB\n"
     ]
    }
   ],
   "source": [
    "df.info(memory_usage=\"deep\")"
   ]
  },
  {
   "cell_type": "code",
   "execution_count": 61,
   "metadata": {},
   "outputs": [
    {
     "name": "stdout",
     "output_type": "stream",
     "text": [
      "<class 'pandas.core.frame.DataFrame'>\n",
      "Index: 930 entries, Y163O8161RUS to Q912S2345RUS\n",
      "Data columns (total 5 columns):\n",
      " #   Column  Non-Null Count  Dtype   \n",
      "---  ------  --------------  -----   \n",
      " 0   Refund  930 non-null    int8    \n",
      " 1   Fines   930 non-null    float32 \n",
      " 2   Make    930 non-null    category\n",
      " 3   Model   918 non-null    object  \n",
      " 4   Year    930 non-null    int16   \n",
      "dtypes: category(1), float32(1), int16(1), int8(1), object(1)\n",
      "memory usage: 144.6 KB\n"
     ]
    }
   ],
   "source": [
    "optimized = df.copy()\n",
    "optimized[\"Fines\"] = optimized[\"Fines\"].astype(\"float32\")\n",
    "optimized[\"Refund\"] = pd.to_numeric(optimized[\"Refund\"], downcast=\"integer\")\n",
    "optimized[\"Year\"] = pd.to_numeric(optimized[\"Year\"], downcast=\"integer\")\n",
    "optimized.info(memory_usage='deep')"
   ]
  },
  {
   "cell_type": "markdown",
   "metadata": {},
   "source": [
    "<h2>categories<h2>"
   ]
  },
  {
   "cell_type": "code",
   "execution_count": 58,
   "metadata": {},
   "outputs": [
    {
     "name": "stdout",
     "output_type": "stream",
     "text": [
      "<class 'pandas.core.frame.DataFrame'>\n",
      "Index: 930 entries, Y163O8161RUS to Q912S2345RUS\n",
      "Data columns (total 5 columns):\n",
      " #   Column  Non-Null Count  Dtype   \n",
      "---  ------  --------------  -----   \n",
      " 0   Refund  930 non-null    int8    \n",
      " 1   Fines   930 non-null    float32 \n",
      " 2   Make    930 non-null    category\n",
      " 3   Model   918 non-null    category\n",
      " 4   Year    930 non-null    int16   \n",
      "dtypes: category(2), float32(1), int16(1), int8(1)\n",
      "memory usage: 97.5 KB\n"
     ]
    }
   ],
   "source": [
    "optimized[\"Make\"] = optimized[\"Make\"].astype(\"category\")\n",
    "optimized[\"Model\"] = optimized[\"Model\"].astype(\"category\")\n",
    "optimized.info(memory_usage='deep')\n"
   ]
  },
  {
   "cell_type": "markdown",
   "metadata": {},
   "source": [
    "<h2>memory clean<h2>"
   ]
  },
  {
   "cell_type": "code",
   "execution_count": 65,
   "metadata": {},
   "outputs": [
    {
     "data": {
      "text/plain": [
       "31"
      ]
     },
     "execution_count": 65,
     "metadata": {},
     "output_type": "execute_result"
    }
   ],
   "source": [
    "%reset_selective df\n",
    "gc.collect()"
   ]
  }
 ],
 "metadata": {
  "kernelspec": {
   "display_name": ".venv",
   "language": "python",
   "name": "python3"
  },
  "language_info": {
   "codemirror_mode": {
    "name": "ipython",
    "version": 3
   },
   "file_extension": ".py",
   "mimetype": "text/x-python",
   "name": "python",
   "nbconvert_exporter": "python",
   "pygments_lexer": "ipython3",
   "version": "3.13.1"
  }
 },
 "nbformat": 4,
 "nbformat_minor": 2
}
