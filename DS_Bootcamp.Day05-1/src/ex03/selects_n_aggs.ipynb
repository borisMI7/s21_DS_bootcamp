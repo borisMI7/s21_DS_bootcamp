{
 "cells": [
  {
   "cell_type": "markdown",
   "metadata": {},
   "source": [
    "<h1>Selects and aggregations<h1>"
   ]
  },
  {
   "cell_type": "code",
   "execution_count": 1,
   "metadata": {},
   "outputs": [],
   "source": [
    "import pandas as pd"
   ]
  },
  {
   "cell_type": "markdown",
   "metadata": {},
   "source": [
    "<h2>load the JSON file that you created in the previous exercise into a dataframe<h2>"
   ]
  },
  {
   "cell_type": "code",
   "execution_count": 6,
   "metadata": {},
   "outputs": [],
   "source": [
    "df = pd.read_json(\"../../data/auto.json\")\n",
    "df.set_index(\"CarNumber\", inplace=True)"
   ]
  },
  {
   "cell_type": "markdown",
   "metadata": {},
   "source": [
    "<h2>make the following selects<h2>"
   ]
  },
  {
   "cell_type": "code",
   "execution_count": 8,
   "metadata": {},
   "outputs": [
    {
     "data": {
      "application/vnd.microsoft.datawrangler.viewer.v0+json": {
       "columns": [
        {
         "name": "CarNumber",
         "rawType": "object",
         "type": "string"
        },
        {
         "name": "Refund",
         "rawType": "int64",
         "type": "integer"
        },
        {
         "name": "Fines",
         "rawType": "float64",
         "type": "float"
        },
        {
         "name": "Make",
         "rawType": "object",
         "type": "string"
        },
        {
         "name": "Model",
         "rawType": "object",
         "type": "unknown"
        }
       ],
       "conversionMethod": "pd.DataFrame",
       "ref": "dc2badbe-c507-4635-9c37-1d0591f21651",
       "rows": [
        [
         "Y163O8161RUS",
         "2",
         "3200.0",
         "Ford",
         "Focus"
        ],
        [
         "E432XX77RUS",
         "1",
         "6500.0",
         "Toyota",
         "Camry"
        ],
        [
         "E34877152RUS",
         "2",
         "6100.0",
         "Ford",
         "Focus"
        ],
        [
         "92918M178RUS",
         "1",
         "5700.0",
         "Ford",
         "Focus"
        ],
        [
         "X4128H125RUS",
         "1",
         "8594.5864661654",
         "Ford",
         "Focus"
        ],
        [
         "H234YH197RUS",
         "2",
         "6000.0",
         "Ford",
         "Focus"
        ],
        [
         "E40577152RUS",
         "1",
         "8594.5864661654",
         "Ford",
         "Focus"
        ],
        [
         "707987163RUS",
         "2",
         "2200.0",
         "Ford",
         "Focus"
        ],
        [
         "K330T8197RUS",
         "2",
         "8200.0",
         "Skoda",
         "Octavia"
        ],
        [
         "X786CO96RUS",
         "1",
         "8594.5864661654",
         "Ford",
         "Focus"
        ],
        [
         "C477M7161RUS",
         "1",
         "2500.0",
         "Ford",
         "Focus"
        ],
        [
         "M592CH197RUS",
         "2",
         "8594.5864661654",
         "Skoda",
         "Octavia"
        ],
        [
         "9020YC197RUS",
         "2",
         "145000.0",
         "Skoda",
         "Octavia"
        ],
        [
         "7830C8197RUS",
         "2",
         "8594.5864661654",
         "Ford",
         "Focus"
        ],
        [
         "7066C8197RUS",
         "2",
         "15000.0",
         "Volkswagen",
         "Passat"
        ],
        [
         "M298CH161RUS",
         "2",
         "8594.5864661654",
         "Ford",
         "Focus"
        ],
        [
         "M0299X197RUS",
         "2",
         "19200.0",
         "Ford",
         "Focus"
        ],
        [
         "E445TC197RUS",
         "1",
         "8594.5864661654",
         "Ford",
         "Focus"
        ],
        [
         "8440XX154RUS",
         "1",
         "6200.0",
         "Ford",
         "Focus"
        ],
        [
         "9371CE154RUS",
         "2",
         "8594.5864661654",
         "Skoda",
         "Octavia"
        ],
        [
         "9182CE154RUS",
         "2",
         "19800.0",
         "Ford",
         "Focus"
        ],
        [
         "83298C154RUS",
         "2",
         "8594.5864661654",
         "Ford",
         "Focus"
        ],
        [
         "Y7659C197RUS",
         "2",
         "8594.5864661654",
         "Ford",
         "Focus"
        ],
        [
         "C922YE197RUS",
         "2",
         "3800.0",
         "Volkswagen",
         "Golf"
        ],
        [
         "9935TE152RUS",
         "2",
         "2500.0",
         "Ford",
         "Focus"
        ],
        [
         "7364C8197RUS",
         "2",
         "8594.5864661654",
         "Ford",
         "Focus"
        ],
        [
         "M375CH197RUS",
         "2",
         "18100.0",
         "Ford",
         "Focus"
        ],
        [
         "M5039X197RUS",
         "2",
         "7400.0",
         "Volkswagen",
         null
        ],
        [
         "9499KX178RUS",
         "2",
         "2300.0",
         "Ford",
         "Focus"
        ],
        [
         "92928M178RUS",
         "1",
         "8594.5864661654",
         "Ford",
         "Focus"
        ],
        [
         "H232YH197RUS",
         "1",
         "8600.0",
         "Ford",
         "Focus"
        ],
        [
         "O672E8197RUS",
         "2",
         "63300.0",
         "Skoda",
         "Octavia"
        ],
        [
         "E42277152RUS",
         "2",
         "10600.0",
         "Ford",
         "Focus"
        ],
        [
         "X767HY197RUS",
         "2",
         "18000.0",
         "Ford",
         "Focus"
        ],
        [
         "T7318T163RUS",
         "2",
         "12000.0",
         "Toyota",
         "Camry"
        ],
        [
         "Y7719C197RUS",
         "1",
         "9200.0",
         "Ford",
         "Focus"
        ],
        [
         "H115YO163RUS",
         "1",
         "2200.0",
         "Ford",
         "Focus"
        ],
        [
         "C420X938RUS",
         "1",
         "3300.0",
         "Ford",
         "Focus"
        ],
        [
         "X765HY197RUS",
         "2",
         "13900.0",
         "Ford",
         "Focus"
        ],
        [
         "T6488M116RUS",
         "2",
         "21000.0",
         "Ford",
         "Focus"
        ],
        [
         "O134HE197RUS",
         "1",
         "8594.5864661654",
         "Ford",
         "Focus"
        ],
        [
         "H968HY161RUS",
         "1",
         "2400.0",
         "Ford",
         "Focus"
        ],
        [
         "H963HY161RUS",
         "2",
         "2800.0",
         "Ford",
         "Focus"
        ],
        [
         "7843C8197RUS",
         "2",
         "12300.0",
         "Ford",
         "Focus"
        ],
        [
         "X761HY197RUS",
         "2",
         "18300.0",
         "Ford",
         "Focus"
        ],
        [
         "Y358O8197RUS",
         "2",
         "21800.0",
         "Ford",
         "Focus"
        ],
        [
         "Y973O8197RUS",
         "2",
         "8594.5864661654",
         "Ford",
         "Focus"
        ],
        [
         "7066C8197RUS",
         "2",
         "3000.0",
         "Volkswagen",
         "Passat"
        ],
        [
         "H917TC36RUS",
         "2",
         "4000.0",
         "Ford",
         "Focus"
        ],
        [
         "Y357O8197RUS",
         "1",
         "2200.0",
         "Ford",
         "Focus"
        ]
       ],
       "shape": {
        "columns": 4,
        "rows": 455
       }
      },
      "text/html": [
       "<div>\n",
       "<style scoped>\n",
       "    .dataframe tbody tr th:only-of-type {\n",
       "        vertical-align: middle;\n",
       "    }\n",
       "\n",
       "    .dataframe tbody tr th {\n",
       "        vertical-align: top;\n",
       "    }\n",
       "\n",
       "    .dataframe thead th {\n",
       "        text-align: right;\n",
       "    }\n",
       "</style>\n",
       "<table border=\"1\" class=\"dataframe\">\n",
       "  <thead>\n",
       "    <tr style=\"text-align: right;\">\n",
       "      <th></th>\n",
       "      <th>Refund</th>\n",
       "      <th>Fines</th>\n",
       "      <th>Make</th>\n",
       "      <th>Model</th>\n",
       "    </tr>\n",
       "    <tr>\n",
       "      <th>CarNumber</th>\n",
       "      <th></th>\n",
       "      <th></th>\n",
       "      <th></th>\n",
       "      <th></th>\n",
       "    </tr>\n",
       "  </thead>\n",
       "  <tbody>\n",
       "    <tr>\n",
       "      <th>Y163O8161RUS</th>\n",
       "      <td>2</td>\n",
       "      <td>3200.000000</td>\n",
       "      <td>Ford</td>\n",
       "      <td>Focus</td>\n",
       "    </tr>\n",
       "    <tr>\n",
       "      <th>E432XX77RUS</th>\n",
       "      <td>1</td>\n",
       "      <td>6500.000000</td>\n",
       "      <td>Toyota</td>\n",
       "      <td>Camry</td>\n",
       "    </tr>\n",
       "    <tr>\n",
       "      <th>E34877152RUS</th>\n",
       "      <td>2</td>\n",
       "      <td>6100.000000</td>\n",
       "      <td>Ford</td>\n",
       "      <td>Focus</td>\n",
       "    </tr>\n",
       "    <tr>\n",
       "      <th>92918M178RUS</th>\n",
       "      <td>1</td>\n",
       "      <td>5700.000000</td>\n",
       "      <td>Ford</td>\n",
       "      <td>Focus</td>\n",
       "    </tr>\n",
       "    <tr>\n",
       "      <th>X4128H125RUS</th>\n",
       "      <td>1</td>\n",
       "      <td>8594.586466</td>\n",
       "      <td>Ford</td>\n",
       "      <td>Focus</td>\n",
       "    </tr>\n",
       "    <tr>\n",
       "      <th>...</th>\n",
       "      <td>...</td>\n",
       "      <td>...</td>\n",
       "      <td>...</td>\n",
       "      <td>...</td>\n",
       "    </tr>\n",
       "    <tr>\n",
       "      <th>O68897197RUS</th>\n",
       "      <td>2</td>\n",
       "      <td>12300.000000</td>\n",
       "      <td>Ford</td>\n",
       "      <td>Focus</td>\n",
       "    </tr>\n",
       "    <tr>\n",
       "      <th>O718MM163RUS</th>\n",
       "      <td>2</td>\n",
       "      <td>8594.586466</td>\n",
       "      <td>Ford</td>\n",
       "      <td>Focus</td>\n",
       "    </tr>\n",
       "    <tr>\n",
       "      <th>7065C8197RUS</th>\n",
       "      <td>2</td>\n",
       "      <td>11400.000000</td>\n",
       "      <td>Volkswagen</td>\n",
       "      <td>Passat</td>\n",
       "    </tr>\n",
       "    <tr>\n",
       "      <th>M0309X197RUS</th>\n",
       "      <td>1</td>\n",
       "      <td>22300.000000</td>\n",
       "      <td>Ford</td>\n",
       "      <td>Focus</td>\n",
       "    </tr>\n",
       "    <tr>\n",
       "      <th>H419XE197RUS</th>\n",
       "      <td>2</td>\n",
       "      <td>8594.586466</td>\n",
       "      <td>Toyota</td>\n",
       "      <td>Corolla</td>\n",
       "    </tr>\n",
       "  </tbody>\n",
       "</table>\n",
       "<p>455 rows × 4 columns</p>\n",
       "</div>"
      ],
      "text/plain": [
       "              Refund         Fines        Make    Model\n",
       "CarNumber                                              \n",
       "Y163O8161RUS       2   3200.000000        Ford    Focus\n",
       "E432XX77RUS        1   6500.000000      Toyota    Camry\n",
       "E34877152RUS       2   6100.000000        Ford    Focus\n",
       "92918M178RUS       1   5700.000000        Ford    Focus\n",
       "X4128H125RUS       1   8594.586466        Ford    Focus\n",
       "...              ...           ...         ...      ...\n",
       "O68897197RUS       2  12300.000000        Ford    Focus\n",
       "O718MM163RUS       2   8594.586466        Ford    Focus\n",
       "7065C8197RUS       2  11400.000000  Volkswagen   Passat\n",
       "M0309X197RUS       1  22300.000000        Ford    Focus\n",
       "H419XE197RUS       2   8594.586466      Toyota  Corolla\n",
       "\n",
       "[455 rows x 4 columns]"
      ]
     },
     "execution_count": 8,
     "metadata": {},
     "output_type": "execute_result"
    }
   ],
   "source": [
    "df[df[\"Fines\"] > 2100]"
   ]
  },
  {
   "cell_type": "code",
   "execution_count": 9,
   "metadata": {},
   "outputs": [
    {
     "data": {
      "application/vnd.microsoft.datawrangler.viewer.v0+json": {
       "columns": [
        {
         "name": "CarNumber",
         "rawType": "object",
         "type": "string"
        },
        {
         "name": "Refund",
         "rawType": "int64",
         "type": "integer"
        },
        {
         "name": "Fines",
         "rawType": "float64",
         "type": "float"
        },
        {
         "name": "Make",
         "rawType": "object",
         "type": "string"
        },
        {
         "name": "Model",
         "rawType": "object",
         "type": "unknown"
        }
       ],
       "conversionMethod": "pd.DataFrame",
       "ref": "40ea9ac3-445d-4eae-97e9-c46d4b77d943",
       "rows": [
        [
         "Y163O8161RUS",
         "2",
         "3200.0",
         "Ford",
         "Focus"
        ],
        [
         "E34877152RUS",
         "2",
         "6100.0",
         "Ford",
         "Focus"
        ],
        [
         "H234YH197RUS",
         "2",
         "6000.0",
         "Ford",
         "Focus"
        ],
        [
         "707987163RUS",
         "2",
         "2200.0",
         "Ford",
         "Focus"
        ],
        [
         "K330T8197RUS",
         "2",
         "8200.0",
         "Skoda",
         "Octavia"
        ],
        [
         "M592CH197RUS",
         "2",
         "8594.5864661654",
         "Skoda",
         "Octavia"
        ],
        [
         "9020YC197RUS",
         "2",
         "145000.0",
         "Skoda",
         "Octavia"
        ],
        [
         "7830C8197RUS",
         "2",
         "8594.5864661654",
         "Ford",
         "Focus"
        ],
        [
         "7066C8197RUS",
         "2",
         "15000.0",
         "Volkswagen",
         "Passat"
        ],
        [
         "M298CH161RUS",
         "2",
         "8594.5864661654",
         "Ford",
         "Focus"
        ],
        [
         "M0299X197RUS",
         "2",
         "19200.0",
         "Ford",
         "Focus"
        ],
        [
         "9371CE154RUS",
         "2",
         "8594.5864661654",
         "Skoda",
         "Octavia"
        ],
        [
         "9182CE154RUS",
         "2",
         "19800.0",
         "Ford",
         "Focus"
        ],
        [
         "83298C154RUS",
         "2",
         "8594.5864661654",
         "Ford",
         "Focus"
        ],
        [
         "Y7659C197RUS",
         "2",
         "8594.5864661654",
         "Ford",
         "Focus"
        ],
        [
         "C922YE197RUS",
         "2",
         "3800.0",
         "Volkswagen",
         "Golf"
        ],
        [
         "9935TE152RUS",
         "2",
         "2500.0",
         "Ford",
         "Focus"
        ],
        [
         "7364C8197RUS",
         "2",
         "8594.5864661654",
         "Ford",
         "Focus"
        ],
        [
         "M375CH197RUS",
         "2",
         "18100.0",
         "Ford",
         "Focus"
        ],
        [
         "M5039X197RUS",
         "2",
         "7400.0",
         "Volkswagen",
         null
        ],
        [
         "9499KX178RUS",
         "2",
         "2300.0",
         "Ford",
         "Focus"
        ],
        [
         "O672E8197RUS",
         "2",
         "63300.0",
         "Skoda",
         "Octavia"
        ],
        [
         "E42277152RUS",
         "2",
         "10600.0",
         "Ford",
         "Focus"
        ],
        [
         "X767HY197RUS",
         "2",
         "18000.0",
         "Ford",
         "Focus"
        ],
        [
         "T7318T163RUS",
         "2",
         "12000.0",
         "Toyota",
         "Camry"
        ],
        [
         "X765HY197RUS",
         "2",
         "13900.0",
         "Ford",
         "Focus"
        ],
        [
         "T6488M116RUS",
         "2",
         "21000.0",
         "Ford",
         "Focus"
        ],
        [
         "H963HY161RUS",
         "2",
         "2800.0",
         "Ford",
         "Focus"
        ],
        [
         "7843C8197RUS",
         "2",
         "12300.0",
         "Ford",
         "Focus"
        ],
        [
         "X761HY197RUS",
         "2",
         "18300.0",
         "Ford",
         "Focus"
        ],
        [
         "Y358O8197RUS",
         "2",
         "21800.0",
         "Ford",
         "Focus"
        ],
        [
         "Y973O8197RUS",
         "2",
         "8594.5864661654",
         "Ford",
         "Focus"
        ],
        [
         "7066C8197RUS",
         "2",
         "3000.0",
         "Volkswagen",
         "Passat"
        ],
        [
         "H917TC36RUS",
         "2",
         "4000.0",
         "Ford",
         "Focus"
        ],
        [
         "T6418M116RUS",
         "2",
         "24600.0",
         "Ford",
         "Focus"
        ],
        [
         "T395OT197RUS",
         "2",
         "8594.5864661654",
         "Volkswagen",
         "Touareg"
        ],
        [
         "K327T8197RUS",
         "2",
         "20800.0",
         "Volkswagen",
         "Golf"
        ],
        [
         "8311XX154RUS",
         "2",
         "8600.0",
         "Ford",
         "Focus"
        ],
        [
         "X423MK197RUS",
         "2",
         "14300.0",
         "Ford",
         "Focus"
        ],
        [
         "O275O7161RUS",
         "2",
         "16600.0",
         "Ford",
         "Focus"
        ],
        [
         "7789KT197RUS",
         "2",
         "12600.0",
         "Ford",
         "Focus"
        ],
        [
         "O83697197RUS",
         "2",
         "6100.0",
         "Ford",
         "Focus"
        ],
        [
         "T6449O50RUS",
         "2",
         "8594.5864661654",
         "Ford",
         "Focus"
        ],
        [
         "9683EC178RUS",
         "2",
         "26000.0",
         "Ford",
         "Focus"
        ],
        [
         "Y353O8197RUS",
         "2",
         "21800.0",
         "Ford",
         "Focus"
        ],
        [
         "O719MM163RUS",
         "2",
         "2300.0",
         "Ford",
         "Focus"
        ],
        [
         "7784KT197RUS",
         "2",
         "6600.0",
         "Ford",
         "Focus"
        ],
        [
         "Y352O8197RUS",
         "2",
         "103600.0",
         "Ford",
         "Focus"
        ],
        [
         "7788KT197RUS",
         "2",
         "12000.0",
         "Ford",
         "Focus"
        ],
        [
         "T479KX197RUS",
         "2",
         "12000.0",
         "Ford",
         "Focus"
        ]
       ],
       "shape": {
        "columns": 4,
        "rows": 309
       }
      },
      "text/html": [
       "<div>\n",
       "<style scoped>\n",
       "    .dataframe tbody tr th:only-of-type {\n",
       "        vertical-align: middle;\n",
       "    }\n",
       "\n",
       "    .dataframe tbody tr th {\n",
       "        vertical-align: top;\n",
       "    }\n",
       "\n",
       "    .dataframe thead th {\n",
       "        text-align: right;\n",
       "    }\n",
       "</style>\n",
       "<table border=\"1\" class=\"dataframe\">\n",
       "  <thead>\n",
       "    <tr style=\"text-align: right;\">\n",
       "      <th></th>\n",
       "      <th>Refund</th>\n",
       "      <th>Fines</th>\n",
       "      <th>Make</th>\n",
       "      <th>Model</th>\n",
       "    </tr>\n",
       "    <tr>\n",
       "      <th>CarNumber</th>\n",
       "      <th></th>\n",
       "      <th></th>\n",
       "      <th></th>\n",
       "      <th></th>\n",
       "    </tr>\n",
       "  </thead>\n",
       "  <tbody>\n",
       "    <tr>\n",
       "      <th>Y163O8161RUS</th>\n",
       "      <td>2</td>\n",
       "      <td>3200.000000</td>\n",
       "      <td>Ford</td>\n",
       "      <td>Focus</td>\n",
       "    </tr>\n",
       "    <tr>\n",
       "      <th>E34877152RUS</th>\n",
       "      <td>2</td>\n",
       "      <td>6100.000000</td>\n",
       "      <td>Ford</td>\n",
       "      <td>Focus</td>\n",
       "    </tr>\n",
       "    <tr>\n",
       "      <th>H234YH197RUS</th>\n",
       "      <td>2</td>\n",
       "      <td>6000.000000</td>\n",
       "      <td>Ford</td>\n",
       "      <td>Focus</td>\n",
       "    </tr>\n",
       "    <tr>\n",
       "      <th>707987163RUS</th>\n",
       "      <td>2</td>\n",
       "      <td>2200.000000</td>\n",
       "      <td>Ford</td>\n",
       "      <td>Focus</td>\n",
       "    </tr>\n",
       "    <tr>\n",
       "      <th>K330T8197RUS</th>\n",
       "      <td>2</td>\n",
       "      <td>8200.000000</td>\n",
       "      <td>Skoda</td>\n",
       "      <td>Octavia</td>\n",
       "    </tr>\n",
       "    <tr>\n",
       "      <th>...</th>\n",
       "      <td>...</td>\n",
       "      <td>...</td>\n",
       "      <td>...</td>\n",
       "      <td>...</td>\n",
       "    </tr>\n",
       "    <tr>\n",
       "      <th>O136HO197RUS</th>\n",
       "      <td>2</td>\n",
       "      <td>7800.000000</td>\n",
       "      <td>Toyota</td>\n",
       "      <td>Corolla</td>\n",
       "    </tr>\n",
       "    <tr>\n",
       "      <th>O68897197RUS</th>\n",
       "      <td>2</td>\n",
       "      <td>12300.000000</td>\n",
       "      <td>Ford</td>\n",
       "      <td>Focus</td>\n",
       "    </tr>\n",
       "    <tr>\n",
       "      <th>O718MM163RUS</th>\n",
       "      <td>2</td>\n",
       "      <td>8594.586466</td>\n",
       "      <td>Ford</td>\n",
       "      <td>Focus</td>\n",
       "    </tr>\n",
       "    <tr>\n",
       "      <th>7065C8197RUS</th>\n",
       "      <td>2</td>\n",
       "      <td>11400.000000</td>\n",
       "      <td>Volkswagen</td>\n",
       "      <td>Passat</td>\n",
       "    </tr>\n",
       "    <tr>\n",
       "      <th>H419XE197RUS</th>\n",
       "      <td>2</td>\n",
       "      <td>8594.586466</td>\n",
       "      <td>Toyota</td>\n",
       "      <td>Corolla</td>\n",
       "    </tr>\n",
       "  </tbody>\n",
       "</table>\n",
       "<p>309 rows × 4 columns</p>\n",
       "</div>"
      ],
      "text/plain": [
       "              Refund         Fines        Make    Model\n",
       "CarNumber                                              \n",
       "Y163O8161RUS       2   3200.000000        Ford    Focus\n",
       "E34877152RUS       2   6100.000000        Ford    Focus\n",
       "H234YH197RUS       2   6000.000000        Ford    Focus\n",
       "707987163RUS       2   2200.000000        Ford    Focus\n",
       "K330T8197RUS       2   8200.000000       Skoda  Octavia\n",
       "...              ...           ...         ...      ...\n",
       "O136HO197RUS       2   7800.000000      Toyota  Corolla\n",
       "O68897197RUS       2  12300.000000        Ford    Focus\n",
       "O718MM163RUS       2   8594.586466        Ford    Focus\n",
       "7065C8197RUS       2  11400.000000  Volkswagen   Passat\n",
       "H419XE197RUS       2   8594.586466      Toyota  Corolla\n",
       "\n",
       "[309 rows x 4 columns]"
      ]
     },
     "execution_count": 9,
     "metadata": {},
     "output_type": "execute_result"
    }
   ],
   "source": [
    "df[(df[\"Fines\"] > 2100) & (df[\"Refund\"] == 2)]"
   ]
  },
  {
   "cell_type": "code",
   "execution_count": 11,
   "metadata": {},
   "outputs": [
    {
     "data": {
      "application/vnd.microsoft.datawrangler.viewer.v0+json": {
       "columns": [
        {
         "name": "CarNumber",
         "rawType": "object",
         "type": "string"
        },
        {
         "name": "Refund",
         "rawType": "int64",
         "type": "integer"
        },
        {
         "name": "Fines",
         "rawType": "float64",
         "type": "float"
        },
        {
         "name": "Make",
         "rawType": "object",
         "type": "string"
        },
        {
         "name": "Model",
         "rawType": "object",
         "type": "string"
        }
       ],
       "conversionMethod": "pd.DataFrame",
       "ref": "0a3e4b80-9cd9-4f5e-967a-99028b253cf0",
       "rows": [
        [
         "Y163O8161RUS",
         "2",
         "3200.0",
         "Ford",
         "Focus"
        ],
        [
         "7184TT36RUS",
         "1",
         "2100.0",
         "Ford",
         "Focus"
        ],
        [
         "X582HE161RUS",
         "2",
         "2000.0",
         "Ford",
         "Focus"
        ],
        [
         "E34877152RUS",
         "2",
         "6100.0",
         "Ford",
         "Focus"
        ],
        [
         "92918M178RUS",
         "1",
         "5700.0",
         "Ford",
         "Focus"
        ],
        [
         "E53488152RUS",
         "2",
         "1800.0",
         "Ford",
         "Focus"
        ],
        [
         "X4128H125RUS",
         "1",
         "8594.5864661654",
         "Ford",
         "Focus"
        ],
        [
         "C593EY154RUS",
         "1",
         "1000.0",
         "Ford",
         "Focus"
        ],
        [
         "8049HT125RUS",
         "1",
         "500.0",
         "Ford",
         "Focus"
        ],
        [
         "H234YH197RUS",
         "2",
         "6000.0",
         "Ford",
         "Focus"
        ],
        [
         "E40577152RUS",
         "1",
         "8594.5864661654",
         "Ford",
         "Focus"
        ],
        [
         "707987163RUS",
         "2",
         "2200.0",
         "Ford",
         "Focus"
        ],
        [
         "X786CO96RUS",
         "1",
         "8594.5864661654",
         "Ford",
         "Focus"
        ],
        [
         "C477M7161RUS",
         "1",
         "2500.0",
         "Ford",
         "Focus"
        ],
        [
         "O21997197RUS",
         "1",
         "2000.0",
         "Ford",
         "Focus"
        ],
        [
         "8182XX154RUS",
         "1",
         "200.0",
         "Ford",
         "Focus"
        ],
        [
         "7830C8197RUS",
         "2",
         "8594.5864661654",
         "Ford",
         "Focus"
        ],
        [
         "M298CH161RUS",
         "2",
         "8594.5864661654",
         "Ford",
         "Focus"
        ],
        [
         "M0299X197RUS",
         "2",
         "19200.0",
         "Ford",
         "Focus"
        ],
        [
         "E445TC197RUS",
         "1",
         "8594.5864661654",
         "Ford",
         "Focus"
        ],
        [
         "8440XX154RUS",
         "1",
         "6200.0",
         "Ford",
         "Focus"
        ],
        [
         "9182CE154RUS",
         "2",
         "19800.0",
         "Ford",
         "Focus"
        ],
        [
         "X286TC36RUS",
         "1",
         "500.0",
         "Ford",
         "Focus"
        ],
        [
         "83298C154RUS",
         "2",
         "8594.5864661654",
         "Ford",
         "Focus"
        ],
        [
         "Y7659C197RUS",
         "2",
         "8594.5864661654",
         "Ford",
         "Focus"
        ],
        [
         "9935TE152RUS",
         "2",
         "2500.0",
         "Ford",
         "Focus"
        ],
        [
         "7364C8197RUS",
         "2",
         "8594.5864661654",
         "Ford",
         "Focus"
        ],
        [
         "M375CH197RUS",
         "2",
         "18100.0",
         "Ford",
         "Focus"
        ],
        [
         "8603T8154RUS",
         "1",
         "1500.0",
         "Ford",
         "Focus"
        ],
        [
         "83218C154RUS",
         "1",
         "100.0",
         "Ford",
         "Focus"
        ],
        [
         "9499KX178RUS",
         "2",
         "2300.0",
         "Ford",
         "Focus"
        ],
        [
         "92928M178RUS",
         "1",
         "8594.5864661654",
         "Ford",
         "Focus"
        ],
        [
         "H232YH197RUS",
         "1",
         "8600.0",
         "Ford",
         "Focus"
        ],
        [
         "E42277152RUS",
         "2",
         "10600.0",
         "Ford",
         "Focus"
        ],
        [
         "X767HY197RUS",
         "2",
         "18000.0",
         "Ford",
         "Focus"
        ],
        [
         "Y7719C197RUS",
         "1",
         "9200.0",
         "Ford",
         "Focus"
        ],
        [
         "T011MY163RUS",
         "1",
         "2000.0",
         "Ford",
         "Focus"
        ],
        [
         "H115YO163RUS",
         "1",
         "2200.0",
         "Ford",
         "Focus"
        ],
        [
         "C420X938RUS",
         "1",
         "3300.0",
         "Ford",
         "Focus"
        ],
        [
         "X765HY197RUS",
         "2",
         "13900.0",
         "Ford",
         "Focus"
        ],
        [
         "73467Y96RUS",
         "1",
         "800.0",
         "Ford",
         "Focus"
        ],
        [
         "T6488M116RUS",
         "2",
         "21000.0",
         "Ford",
         "Focus"
        ],
        [
         "O134HE197RUS",
         "1",
         "8594.5864661654",
         "Ford",
         "Focus"
        ],
        [
         "H968HY161RUS",
         "1",
         "2400.0",
         "Ford",
         "Focus"
        ],
        [
         "H963HY161RUS",
         "2",
         "2800.0",
         "Ford",
         "Focus"
        ],
        [
         "7843C8197RUS",
         "2",
         "12300.0",
         "Ford",
         "Focus"
        ],
        [
         "X791O796RUS",
         "1",
         "500.0",
         "Ford",
         "Focus"
        ],
        [
         "Y359O8197RUS",
         "2",
         "2000.0",
         "Ford",
         "Focus"
        ],
        [
         "H958HY161RUS",
         "1",
         "1800.0",
         "Ford",
         "Focus"
        ],
        [
         "X761HY197RUS",
         "2",
         "18300.0",
         "Ford",
         "Focus"
        ]
       ],
       "shape": {
        "columns": 4,
        "rows": 593
       }
      },
      "text/html": [
       "<div>\n",
       "<style scoped>\n",
       "    .dataframe tbody tr th:only-of-type {\n",
       "        vertical-align: middle;\n",
       "    }\n",
       "\n",
       "    .dataframe tbody tr th {\n",
       "        vertical-align: top;\n",
       "    }\n",
       "\n",
       "    .dataframe thead th {\n",
       "        text-align: right;\n",
       "    }\n",
       "</style>\n",
       "<table border=\"1\" class=\"dataframe\">\n",
       "  <thead>\n",
       "    <tr style=\"text-align: right;\">\n",
       "      <th></th>\n",
       "      <th>Refund</th>\n",
       "      <th>Fines</th>\n",
       "      <th>Make</th>\n",
       "      <th>Model</th>\n",
       "    </tr>\n",
       "    <tr>\n",
       "      <th>CarNumber</th>\n",
       "      <th></th>\n",
       "      <th></th>\n",
       "      <th></th>\n",
       "      <th></th>\n",
       "    </tr>\n",
       "  </thead>\n",
       "  <tbody>\n",
       "    <tr>\n",
       "      <th>Y163O8161RUS</th>\n",
       "      <td>2</td>\n",
       "      <td>3200.000000</td>\n",
       "      <td>Ford</td>\n",
       "      <td>Focus</td>\n",
       "    </tr>\n",
       "    <tr>\n",
       "      <th>7184TT36RUS</th>\n",
       "      <td>1</td>\n",
       "      <td>2100.000000</td>\n",
       "      <td>Ford</td>\n",
       "      <td>Focus</td>\n",
       "    </tr>\n",
       "    <tr>\n",
       "      <th>X582HE161RUS</th>\n",
       "      <td>2</td>\n",
       "      <td>2000.000000</td>\n",
       "      <td>Ford</td>\n",
       "      <td>Focus</td>\n",
       "    </tr>\n",
       "    <tr>\n",
       "      <th>E34877152RUS</th>\n",
       "      <td>2</td>\n",
       "      <td>6100.000000</td>\n",
       "      <td>Ford</td>\n",
       "      <td>Focus</td>\n",
       "    </tr>\n",
       "    <tr>\n",
       "      <th>92918M178RUS</th>\n",
       "      <td>1</td>\n",
       "      <td>5700.000000</td>\n",
       "      <td>Ford</td>\n",
       "      <td>Focus</td>\n",
       "    </tr>\n",
       "    <tr>\n",
       "      <th>...</th>\n",
       "      <td>...</td>\n",
       "      <td>...</td>\n",
       "      <td>...</td>\n",
       "      <td>...</td>\n",
       "    </tr>\n",
       "    <tr>\n",
       "      <th>O718MM163RUS</th>\n",
       "      <td>2</td>\n",
       "      <td>8594.586466</td>\n",
       "      <td>Ford</td>\n",
       "      <td>Focus</td>\n",
       "    </tr>\n",
       "    <tr>\n",
       "      <th>Y163O8161RUS</th>\n",
       "      <td>2</td>\n",
       "      <td>1600.000000</td>\n",
       "      <td>Ford</td>\n",
       "      <td>Focus</td>\n",
       "    </tr>\n",
       "    <tr>\n",
       "      <th>M0309X197RUS</th>\n",
       "      <td>1</td>\n",
       "      <td>22300.000000</td>\n",
       "      <td>Ford</td>\n",
       "      <td>Focus</td>\n",
       "    </tr>\n",
       "    <tr>\n",
       "      <th>O673E8197RUS</th>\n",
       "      <td>2</td>\n",
       "      <td>600.000000</td>\n",
       "      <td>Ford</td>\n",
       "      <td>Focus</td>\n",
       "    </tr>\n",
       "    <tr>\n",
       "      <th>H419XE197RUS</th>\n",
       "      <td>2</td>\n",
       "      <td>8594.586466</td>\n",
       "      <td>Toyota</td>\n",
       "      <td>Corolla</td>\n",
       "    </tr>\n",
       "  </tbody>\n",
       "</table>\n",
       "<p>593 rows × 4 columns</p>\n",
       "</div>"
      ],
      "text/plain": [
       "              Refund         Fines    Make    Model\n",
       "CarNumber                                          \n",
       "Y163O8161RUS       2   3200.000000    Ford    Focus\n",
       "7184TT36RUS        1   2100.000000    Ford    Focus\n",
       "X582HE161RUS       2   2000.000000    Ford    Focus\n",
       "E34877152RUS       2   6100.000000    Ford    Focus\n",
       "92918M178RUS       1   5700.000000    Ford    Focus\n",
       "...              ...           ...     ...      ...\n",
       "O718MM163RUS       2   8594.586466    Ford    Focus\n",
       "Y163O8161RUS       2   1600.000000    Ford    Focus\n",
       "M0309X197RUS       1  22300.000000    Ford    Focus\n",
       "O673E8197RUS       2    600.000000    Ford    Focus\n",
       "H419XE197RUS       2   8594.586466  Toyota  Corolla\n",
       "\n",
       "[593 rows x 4 columns]"
      ]
     },
     "execution_count": 11,
     "metadata": {},
     "output_type": "execute_result"
    }
   ],
   "source": [
    "df[df[\"Model\"].isin([\"Focus\", \"Corolla\"])]"
   ]
  },
  {
   "cell_type": "code",
   "execution_count": 13,
   "metadata": {},
   "outputs": [
    {
     "data": {
      "application/vnd.microsoft.datawrangler.viewer.v0+json": {
       "columns": [
        {
         "name": "CarNumber",
         "rawType": "object",
         "type": "string"
        },
        {
         "name": "Refund",
         "rawType": "int64",
         "type": "integer"
        },
        {
         "name": "Fines",
         "rawType": "float64",
         "type": "float"
        },
        {
         "name": "Make",
         "rawType": "object",
         "type": "string"
        },
        {
         "name": "Model",
         "rawType": "object",
         "type": "string"
        }
       ],
       "conversionMethod": "pd.DataFrame",
       "ref": "4f1aed6a-566c-4e87-838e-46c38a6ed86e",
       "rows": [
        [
         "92928M178RUS",
         "1",
         "8594.5864661654",
         "Ford",
         "Focus"
        ],
        [
         "H115YO163RUS",
         "1",
         "2200.0",
         "Ford",
         "Focus"
        ],
        [
         "92928M178RUS",
         "2",
         "1200.0",
         "Ford",
         "Focus"
        ],
        [
         "7788KT197RUS",
         "2",
         "12000.0",
         "Ford",
         "Focus"
        ],
        [
         "X758HY197RUS",
         "2",
         "24200.0",
         "Ford",
         "Focus"
        ],
        [
         "X758HY197RUS",
         "2",
         "72600.0",
         "Ford",
         "Focus"
        ],
        [
         "Y7689C197RUS",
         "1",
         "27000.0",
         "Ford",
         "Focus"
        ],
        [
         "92928M178RUS",
         "1",
         "600.0",
         "Ford",
         "Focus"
        ],
        [
         "H115YO163RUS",
         "1",
         "8594.5864661654",
         "Ford",
         "Focus"
        ],
        [
         "H115YO163RUS",
         "2",
         "1100.0",
         "Ford",
         "Focus"
        ],
        [
         "7788KT197RUS",
         "2",
         "8594.5864661654",
         "Ford",
         "Focus"
        ],
        [
         "7788KT197RUS",
         "1",
         "20000.0",
         "Ford",
         "Focus"
        ],
        [
         "X758HY197RUS",
         "2",
         "145200.0",
         "Ford",
         "Focus"
        ],
        [
         "Y7689C197RUS",
         "2",
         "9000.0",
         "Ford",
         "Focus"
        ],
        [
         "Y7689C197RUS",
         "2",
         "45000.0",
         "Ford",
         "Focus"
        ],
        [
         "7788KT197RUS",
         "2",
         "4000.0",
         "Ford",
         "Focus"
        ],
        [
         "Y7689C197RUS",
         "1",
         "36000.0",
         "Ford",
         "Focus"
        ],
        [
         "92928M178RUS",
         "2",
         "3000.0",
         "Ford",
         "Focus"
        ]
       ],
       "shape": {
        "columns": 4,
        "rows": 18
       }
      },
      "text/html": [
       "<div>\n",
       "<style scoped>\n",
       "    .dataframe tbody tr th:only-of-type {\n",
       "        vertical-align: middle;\n",
       "    }\n",
       "\n",
       "    .dataframe tbody tr th {\n",
       "        vertical-align: top;\n",
       "    }\n",
       "\n",
       "    .dataframe thead th {\n",
       "        text-align: right;\n",
       "    }\n",
       "</style>\n",
       "<table border=\"1\" class=\"dataframe\">\n",
       "  <thead>\n",
       "    <tr style=\"text-align: right;\">\n",
       "      <th></th>\n",
       "      <th>Refund</th>\n",
       "      <th>Fines</th>\n",
       "      <th>Make</th>\n",
       "      <th>Model</th>\n",
       "    </tr>\n",
       "    <tr>\n",
       "      <th>CarNumber</th>\n",
       "      <th></th>\n",
       "      <th></th>\n",
       "      <th></th>\n",
       "      <th></th>\n",
       "    </tr>\n",
       "  </thead>\n",
       "  <tbody>\n",
       "    <tr>\n",
       "      <th>92928M178RUS</th>\n",
       "      <td>1</td>\n",
       "      <td>8594.586466</td>\n",
       "      <td>Ford</td>\n",
       "      <td>Focus</td>\n",
       "    </tr>\n",
       "    <tr>\n",
       "      <th>H115YO163RUS</th>\n",
       "      <td>1</td>\n",
       "      <td>2200.000000</td>\n",
       "      <td>Ford</td>\n",
       "      <td>Focus</td>\n",
       "    </tr>\n",
       "    <tr>\n",
       "      <th>92928M178RUS</th>\n",
       "      <td>2</td>\n",
       "      <td>1200.000000</td>\n",
       "      <td>Ford</td>\n",
       "      <td>Focus</td>\n",
       "    </tr>\n",
       "    <tr>\n",
       "      <th>7788KT197RUS</th>\n",
       "      <td>2</td>\n",
       "      <td>12000.000000</td>\n",
       "      <td>Ford</td>\n",
       "      <td>Focus</td>\n",
       "    </tr>\n",
       "    <tr>\n",
       "      <th>X758HY197RUS</th>\n",
       "      <td>2</td>\n",
       "      <td>24200.000000</td>\n",
       "      <td>Ford</td>\n",
       "      <td>Focus</td>\n",
       "    </tr>\n",
       "    <tr>\n",
       "      <th>X758HY197RUS</th>\n",
       "      <td>2</td>\n",
       "      <td>72600.000000</td>\n",
       "      <td>Ford</td>\n",
       "      <td>Focus</td>\n",
       "    </tr>\n",
       "    <tr>\n",
       "      <th>Y7689C197RUS</th>\n",
       "      <td>1</td>\n",
       "      <td>27000.000000</td>\n",
       "      <td>Ford</td>\n",
       "      <td>Focus</td>\n",
       "    </tr>\n",
       "    <tr>\n",
       "      <th>92928M178RUS</th>\n",
       "      <td>1</td>\n",
       "      <td>600.000000</td>\n",
       "      <td>Ford</td>\n",
       "      <td>Focus</td>\n",
       "    </tr>\n",
       "    <tr>\n",
       "      <th>H115YO163RUS</th>\n",
       "      <td>1</td>\n",
       "      <td>8594.586466</td>\n",
       "      <td>Ford</td>\n",
       "      <td>Focus</td>\n",
       "    </tr>\n",
       "    <tr>\n",
       "      <th>H115YO163RUS</th>\n",
       "      <td>2</td>\n",
       "      <td>1100.000000</td>\n",
       "      <td>Ford</td>\n",
       "      <td>Focus</td>\n",
       "    </tr>\n",
       "    <tr>\n",
       "      <th>7788KT197RUS</th>\n",
       "      <td>2</td>\n",
       "      <td>8594.586466</td>\n",
       "      <td>Ford</td>\n",
       "      <td>Focus</td>\n",
       "    </tr>\n",
       "    <tr>\n",
       "      <th>7788KT197RUS</th>\n",
       "      <td>1</td>\n",
       "      <td>20000.000000</td>\n",
       "      <td>Ford</td>\n",
       "      <td>Focus</td>\n",
       "    </tr>\n",
       "    <tr>\n",
       "      <th>X758HY197RUS</th>\n",
       "      <td>2</td>\n",
       "      <td>145200.000000</td>\n",
       "      <td>Ford</td>\n",
       "      <td>Focus</td>\n",
       "    </tr>\n",
       "    <tr>\n",
       "      <th>Y7689C197RUS</th>\n",
       "      <td>2</td>\n",
       "      <td>9000.000000</td>\n",
       "      <td>Ford</td>\n",
       "      <td>Focus</td>\n",
       "    </tr>\n",
       "    <tr>\n",
       "      <th>Y7689C197RUS</th>\n",
       "      <td>2</td>\n",
       "      <td>45000.000000</td>\n",
       "      <td>Ford</td>\n",
       "      <td>Focus</td>\n",
       "    </tr>\n",
       "    <tr>\n",
       "      <th>7788KT197RUS</th>\n",
       "      <td>2</td>\n",
       "      <td>4000.000000</td>\n",
       "      <td>Ford</td>\n",
       "      <td>Focus</td>\n",
       "    </tr>\n",
       "    <tr>\n",
       "      <th>Y7689C197RUS</th>\n",
       "      <td>1</td>\n",
       "      <td>36000.000000</td>\n",
       "      <td>Ford</td>\n",
       "      <td>Focus</td>\n",
       "    </tr>\n",
       "    <tr>\n",
       "      <th>92928M178RUS</th>\n",
       "      <td>2</td>\n",
       "      <td>3000.000000</td>\n",
       "      <td>Ford</td>\n",
       "      <td>Focus</td>\n",
       "    </tr>\n",
       "  </tbody>\n",
       "</table>\n",
       "</div>"
      ],
      "text/plain": [
       "              Refund          Fines  Make  Model\n",
       "CarNumber                                       \n",
       "92928M178RUS       1    8594.586466  Ford  Focus\n",
       "H115YO163RUS       1    2200.000000  Ford  Focus\n",
       "92928M178RUS       2    1200.000000  Ford  Focus\n",
       "7788KT197RUS       2   12000.000000  Ford  Focus\n",
       "X758HY197RUS       2   24200.000000  Ford  Focus\n",
       "X758HY197RUS       2   72600.000000  Ford  Focus\n",
       "Y7689C197RUS       1   27000.000000  Ford  Focus\n",
       "92928M178RUS       1     600.000000  Ford  Focus\n",
       "H115YO163RUS       1    8594.586466  Ford  Focus\n",
       "H115YO163RUS       2    1100.000000  Ford  Focus\n",
       "7788KT197RUS       2    8594.586466  Ford  Focus\n",
       "7788KT197RUS       1   20000.000000  Ford  Focus\n",
       "X758HY197RUS       2  145200.000000  Ford  Focus\n",
       "Y7689C197RUS       2    9000.000000  Ford  Focus\n",
       "Y7689C197RUS       2   45000.000000  Ford  Focus\n",
       "7788KT197RUS       2    4000.000000  Ford  Focus\n",
       "Y7689C197RUS       1   36000.000000  Ford  Focus\n",
       "92928M178RUS       2    3000.000000  Ford  Focus"
      ]
     },
     "execution_count": 13,
     "metadata": {},
     "output_type": "execute_result"
    }
   ],
   "source": [
    "df[df.index.isin([\"Y7689C197RUS\", \"92928M178RUS\", \"7788KT197RUS\", \"H115YO163RUS\", \"X758HY197RUS\"])]"
   ]
  },
  {
   "cell_type": "markdown",
   "metadata": {},
   "source": [
    "<h2>make the aggregations with the make and the model<h2>"
   ]
  },
  {
   "cell_type": "code",
   "execution_count": 25,
   "metadata": {},
   "outputs": [
    {
     "data": {
      "text/plain": [
       "Make\n",
       "Audi          4200.0\n",
       "BMW           6500.0\n",
       "Ford          3500.0\n",
       "Skoda         3250.0\n",
       "Toyota        7700.0\n",
       "Volkswagen    4300.0\n",
       "Volvo         8500.0\n",
       "Name: Fines, dtype: float64"
      ]
     },
     "execution_count": 25,
     "metadata": {},
     "output_type": "execute_result"
    }
   ],
   "source": [
    "df.groupby(\"Make\")[\"Fines\"].median()"
   ]
  },
  {
   "cell_type": "code",
   "execution_count": 17,
   "metadata": {},
   "outputs": [
    {
     "data": {
      "text/plain": [
       "Make        Model  \n",
       "Ford        Focus      3500.0\n",
       "            Mondeo     7650.0\n",
       "Skoda       Octavia    3250.0\n",
       "Toyota      Camry      7700.0\n",
       "            Corolla    7700.0\n",
       "Volkswagen  Golf       4800.0\n",
       "            Jetta      2800.0\n",
       "            Passat     3500.0\n",
       "            Touareg    5800.0\n",
       "Name: Fines, dtype: float64"
      ]
     },
     "execution_count": 17,
     "metadata": {},
     "output_type": "execute_result"
    }
   ],
   "source": [
    "df.groupby([\"Make\", \"Model\"])[\"Fines\"].median()"
   ]
  },
  {
   "cell_type": "code",
   "execution_count": 18,
   "metadata": {},
   "outputs": [
    {
     "data": {
      "text/plain": [
       "Make        Model  \n",
       "Ford        Focus      575\n",
       "            Mondeo       6\n",
       "Skoda       Octavia     48\n",
       "Toyota      Camry       16\n",
       "            Corolla     18\n",
       "Volkswagen  Golf        20\n",
       "            Jetta        6\n",
       "            Passat      22\n",
       "            Touareg      5\n",
       "Name: Fines, dtype: int64"
      ]
     },
     "execution_count": 18,
     "metadata": {},
     "output_type": "execute_result"
    }
   ],
   "source": [
    "df.groupby([\"Make\", \"Model\"])[\"Fines\"].count()"
   ]
  },
  {
   "cell_type": "code",
   "execution_count": 19,
   "metadata": {},
   "outputs": [
    {
     "data": {
      "text/plain": [
       "Make        Model  \n",
       "Ford        Focus       100.0\n",
       "            Mondeo     1100.0\n",
       "Skoda       Octavia     300.0\n",
       "Toyota      Camry       500.0\n",
       "            Corolla     900.0\n",
       "Volkswagen  Golf        200.0\n",
       "            Jetta       500.0\n",
       "            Passat      100.0\n",
       "            Touareg     500.0\n",
       "Name: Fines, dtype: float64"
      ]
     },
     "execution_count": 19,
     "metadata": {},
     "output_type": "execute_result"
    }
   ],
   "source": [
    "df.groupby([\"Make\", \"Model\"])[\"Fines\"].min()"
   ]
  },
  {
   "cell_type": "code",
   "execution_count": 20,
   "metadata": {},
   "outputs": [
    {
     "data": {
      "text/plain": [
       "Make        Model  \n",
       "Ford        Focus      180000.000000\n",
       "            Mondeo      46200.000000\n",
       "Skoda       Octavia    145000.000000\n",
       "Toyota      Camry       22400.000000\n",
       "            Corolla     34300.000000\n",
       "Volkswagen  Golf       168000.000000\n",
       "            Jetta       46000.000000\n",
       "            Passat      29700.000000\n",
       "            Touareg      8594.586466\n",
       "Name: Fines, dtype: float64"
      ]
     },
     "execution_count": 20,
     "metadata": {},
     "output_type": "execute_result"
    }
   ],
   "source": [
    "df.groupby([\"Make\", \"Model\"])[\"Fines\"].max()"
   ]
  },
  {
   "cell_type": "code",
   "execution_count": 21,
   "metadata": {},
   "outputs": [
    {
     "data": {
      "text/plain": [
       "Make        Model  \n",
       "Ford        Focus      15041.269437\n",
       "            Mondeo     18987.329108\n",
       "Skoda       Octavia    24339.742174\n",
       "Toyota      Camry       6410.250654\n",
       "            Corolla     9629.325617\n",
       "Volkswagen  Golf       36950.839950\n",
       "            Jetta      17743.026799\n",
       "            Passat      6969.739135\n",
       "            Touareg     3461.778173\n",
       "Name: Fines, dtype: float64"
      ]
     },
     "execution_count": 21,
     "metadata": {},
     "output_type": "execute_result"
    }
   ],
   "source": [
    "df.groupby([\"Make\", \"Model\"])[\"Fines\"].std()"
   ]
  },
  {
   "cell_type": "markdown",
   "metadata": {},
   "source": [
    "<h2>make the aggregations with the car number<h2>"
   ]
  },
  {
   "cell_type": "code",
   "execution_count": 51,
   "metadata": {},
   "outputs": [
    {
     "data": {
      "application/vnd.microsoft.datawrangler.viewer.v0+json": {
       "columns": [
        {
         "name": "CarNumber",
         "rawType": "object",
         "type": "string"
        },
        {
         "name": "Fines",
         "rawType": "int64",
         "type": "integer"
        }
       ],
       "conversionMethod": "pd.DataFrame",
       "ref": "92b0b28e-ba14-4fcc-aca8-1f5303d5f46d",
       "rows": [
        [
         "Y7689C197RUS",
         "4"
        ],
        [
         "92928M178RUS",
         "4"
        ],
        [
         "7788KT197RUS",
         "4"
        ],
        [
         "H115YO163RUS",
         "3"
        ],
        [
         "X758HY197RUS",
         "3"
        ],
        [
         "O718MM163RUS",
         "3"
        ],
        [
         "7361C8197RUS",
         "3"
        ],
        [
         "H387TM197RUS",
         "3"
        ],
        [
         "O77997197RUS",
         "3"
        ],
        [
         "9697MO178RUS",
         "3"
        ],
        [
         "Y7129Y50RUS",
         "3"
        ],
        [
         "Y973O8197RUS",
         "3"
        ],
        [
         "H957HY161RUS",
         "3"
        ],
        [
         "X256HE161RUS",
         "3"
        ],
        [
         "Y352O8197RUS",
         "3"
        ],
        [
         "X015HY197RUS",
         "3"
        ],
        [
         "7830C8197RUS",
         "3"
        ],
        [
         "Y356O8197RUS",
         "3"
        ],
        [
         "Y358O8197RUS",
         "3"
        ],
        [
         "H004MH197RUS",
         "3"
        ],
        [
         "8818C877RUS",
         "3"
        ],
        [
         "92918M178RUS",
         "3"
        ],
        [
         "M0299X197RUS",
         "3"
        ],
        [
         "X765HY197RUS",
         "3"
        ],
        [
         "9498KX178RUS",
         "3"
        ],
        [
         "O134HE197RUS",
         "3"
        ],
        [
         "K2797K154RUS",
         "3"
        ],
        [
         "Y163O8161RUS",
         "2"
        ],
        [
         "9469EX178RUS",
         "2"
        ],
        [
         "9942KK197RUS",
         "2"
        ],
        [
         "9943KK197RUS",
         "2"
        ],
        [
         "9468EX178RUS",
         "2"
        ],
        [
         "T940CC96RUS",
         "2"
        ],
        [
         "X759HY197RUS",
         "2"
        ],
        [
         "X023HY197RUS",
         "2"
        ],
        [
         "T686EO197RUS",
         "2"
        ],
        [
         "C476M7161RUS",
         "2"
        ],
        [
         "C477M7161RUS",
         "2"
        ],
        [
         "T654HT96RUS",
         "2"
        ],
        [
         "C592EY154RUS",
         "2"
        ],
        [
         "T6419O50RUS",
         "2"
        ],
        [
         "C798ET50RUS",
         "2"
        ],
        [
         "C410X938RUS",
         "2"
        ],
        [
         "9883HX152RUS",
         "2"
        ],
        [
         "X795O796RUS",
         "2"
        ],
        [
         "E0697X152RUS",
         "2"
        ],
        [
         "96659X178RUS",
         "2"
        ],
        [
         "96429X178RUS",
         "2"
        ],
        [
         "9683EC178RUS",
         "2"
        ],
        [
         "96857X197RUS",
         "2"
        ]
       ],
       "shape": {
        "columns": 1,
        "rows": 531
       }
      },
      "text/html": [
       "<div>\n",
       "<style scoped>\n",
       "    .dataframe tbody tr th:only-of-type {\n",
       "        vertical-align: middle;\n",
       "    }\n",
       "\n",
       "    .dataframe tbody tr th {\n",
       "        vertical-align: top;\n",
       "    }\n",
       "\n",
       "    .dataframe thead th {\n",
       "        text-align: right;\n",
       "    }\n",
       "</style>\n",
       "<table border=\"1\" class=\"dataframe\">\n",
       "  <thead>\n",
       "    <tr style=\"text-align: right;\">\n",
       "      <th></th>\n",
       "      <th>Fines</th>\n",
       "    </tr>\n",
       "    <tr>\n",
       "      <th>CarNumber</th>\n",
       "      <th></th>\n",
       "    </tr>\n",
       "  </thead>\n",
       "  <tbody>\n",
       "    <tr>\n",
       "      <th>Y7689C197RUS</th>\n",
       "      <td>4</td>\n",
       "    </tr>\n",
       "    <tr>\n",
       "      <th>92928M178RUS</th>\n",
       "      <td>4</td>\n",
       "    </tr>\n",
       "    <tr>\n",
       "      <th>7788KT197RUS</th>\n",
       "      <td>4</td>\n",
       "    </tr>\n",
       "    <tr>\n",
       "      <th>H115YO163RUS</th>\n",
       "      <td>3</td>\n",
       "    </tr>\n",
       "    <tr>\n",
       "      <th>X758HY197RUS</th>\n",
       "      <td>3</td>\n",
       "    </tr>\n",
       "    <tr>\n",
       "      <th>...</th>\n",
       "      <td>...</td>\n",
       "    </tr>\n",
       "    <tr>\n",
       "      <th>E42577152RUS</th>\n",
       "      <td>1</td>\n",
       "    </tr>\n",
       "    <tr>\n",
       "      <th>E42377152RUS</th>\n",
       "      <td>1</td>\n",
       "    </tr>\n",
       "    <tr>\n",
       "      <th>E41977152RUS</th>\n",
       "      <td>1</td>\n",
       "    </tr>\n",
       "    <tr>\n",
       "      <th>E41577152RUS</th>\n",
       "      <td>1</td>\n",
       "    </tr>\n",
       "    <tr>\n",
       "      <th>H917TC36RUS</th>\n",
       "      <td>1</td>\n",
       "    </tr>\n",
       "  </tbody>\n",
       "</table>\n",
       "<p>531 rows × 1 columns</p>\n",
       "</div>"
      ],
      "text/plain": [
       "              Fines\n",
       "CarNumber          \n",
       "Y7689C197RUS      4\n",
       "92928M178RUS      4\n",
       "7788KT197RUS      4\n",
       "H115YO163RUS      3\n",
       "X758HY197RUS      3\n",
       "...             ...\n",
       "E42577152RUS      1\n",
       "E42377152RUS      1\n",
       "E41977152RUS      1\n",
       "E41577152RUS      1\n",
       "H917TC36RUS       1\n",
       "\n",
       "[531 rows x 1 columns]"
      ]
     },
     "execution_count": 51,
     "metadata": {},
     "output_type": "execute_result"
    }
   ],
   "source": [
    "number_count = pd.DataFrame(df.groupby(df.index).count()[\"Fines\"])\n",
    "number_count.sort_values(\"Fines\", ascending=False)"
   ]
  },
  {
   "cell_type": "code",
   "execution_count": 52,
   "metadata": {},
   "outputs": [
    {
     "data": {
      "application/vnd.microsoft.datawrangler.viewer.v0+json": {
       "columns": [
        {
         "name": "CarNumber",
         "rawType": "object",
         "type": "string"
        },
        {
         "name": "Refund",
         "rawType": "int64",
         "type": "integer"
        },
        {
         "name": "Fines",
         "rawType": "float64",
         "type": "float"
        },
        {
         "name": "Make",
         "rawType": "object",
         "type": "string"
        },
        {
         "name": "Model",
         "rawType": "object",
         "type": "string"
        }
       ],
       "conversionMethod": "pd.DataFrame",
       "ref": "1ad4278f-0858-4a52-b572-7c86e2820904",
       "rows": [
        [
         "Y7689C197RUS",
         "1",
         "27000.0",
         "Ford",
         "Focus"
        ],
        [
         "Y7689C197RUS",
         "2",
         "9000.0",
         "Ford",
         "Focus"
        ],
        [
         "Y7689C197RUS",
         "2",
         "45000.0",
         "Ford",
         "Focus"
        ],
        [
         "Y7689C197RUS",
         "1",
         "36000.0",
         "Ford",
         "Focus"
        ]
       ],
       "shape": {
        "columns": 4,
        "rows": 4
       }
      },
      "text/html": [
       "<div>\n",
       "<style scoped>\n",
       "    .dataframe tbody tr th:only-of-type {\n",
       "        vertical-align: middle;\n",
       "    }\n",
       "\n",
       "    .dataframe tbody tr th {\n",
       "        vertical-align: top;\n",
       "    }\n",
       "\n",
       "    .dataframe thead th {\n",
       "        text-align: right;\n",
       "    }\n",
       "</style>\n",
       "<table border=\"1\" class=\"dataframe\">\n",
       "  <thead>\n",
       "    <tr style=\"text-align: right;\">\n",
       "      <th></th>\n",
       "      <th>Refund</th>\n",
       "      <th>Fines</th>\n",
       "      <th>Make</th>\n",
       "      <th>Model</th>\n",
       "    </tr>\n",
       "    <tr>\n",
       "      <th>CarNumber</th>\n",
       "      <th></th>\n",
       "      <th></th>\n",
       "      <th></th>\n",
       "      <th></th>\n",
       "    </tr>\n",
       "  </thead>\n",
       "  <tbody>\n",
       "    <tr>\n",
       "      <th>Y7689C197RUS</th>\n",
       "      <td>1</td>\n",
       "      <td>27000.0</td>\n",
       "      <td>Ford</td>\n",
       "      <td>Focus</td>\n",
       "    </tr>\n",
       "    <tr>\n",
       "      <th>Y7689C197RUS</th>\n",
       "      <td>2</td>\n",
       "      <td>9000.0</td>\n",
       "      <td>Ford</td>\n",
       "      <td>Focus</td>\n",
       "    </tr>\n",
       "    <tr>\n",
       "      <th>Y7689C197RUS</th>\n",
       "      <td>2</td>\n",
       "      <td>45000.0</td>\n",
       "      <td>Ford</td>\n",
       "      <td>Focus</td>\n",
       "    </tr>\n",
       "    <tr>\n",
       "      <th>Y7689C197RUS</th>\n",
       "      <td>1</td>\n",
       "      <td>36000.0</td>\n",
       "      <td>Ford</td>\n",
       "      <td>Focus</td>\n",
       "    </tr>\n",
       "  </tbody>\n",
       "</table>\n",
       "</div>"
      ],
      "text/plain": [
       "              Refund    Fines  Make  Model\n",
       "CarNumber                                 \n",
       "Y7689C197RUS       1  27000.0  Ford  Focus\n",
       "Y7689C197RUS       2   9000.0  Ford  Focus\n",
       "Y7689C197RUS       2  45000.0  Ford  Focus\n",
       "Y7689C197RUS       1  36000.0  Ford  Focus"
      ]
     },
     "execution_count": 52,
     "metadata": {},
     "output_type": "execute_result"
    }
   ],
   "source": [
    "df[df.index == \"Y7689C197RUS\"]"
   ]
  },
  {
   "cell_type": "code",
   "execution_count": 56,
   "metadata": {},
   "outputs": [
    {
     "data": {
      "application/vnd.microsoft.datawrangler.viewer.v0+json": {
       "columns": [
        {
         "name": "CarNumber",
         "rawType": "object",
         "type": "string"
        },
        {
         "name": "Fines",
         "rawType": "float64",
         "type": "float"
        }
       ],
       "conversionMethod": "pd.DataFrame",
       "ref": "e4e57cb6-12d1-49ea-b55a-7d0213afc5f5",
       "rows": [
        [
         "X758HY197RUS",
         "242000.0"
        ],
        [
         "9020YC197RUS",
         "217500.0"
        ],
        [
         "M0279X197RUS",
         "216000.0"
        ],
        [
         "Y352O8197RUS",
         "207200.0"
        ],
        [
         "Y778EE197RUS",
         "192000.0"
        ],
        [
         "Y7689C197RUS",
         "117000.0"
        ],
        [
         "Y973O8197RUS",
         "112994.5864661654"
        ],
        [
         "M0299X197RUS",
         "96000.0"
        ],
        [
         "T477KX197RUS",
         "94000.0"
        ],
        [
         "X765HY197RUS",
         "83400.0"
        ],
        [
         "Y273O8197RUS",
         "78900.0"
        ],
        [
         "Y358O8197RUS",
         "76300.0"
        ],
        [
         "O83797197RUS",
         "75900.0"
        ],
        [
         "O22397197RUS",
         "74000.0"
        ],
        [
         "T6418M116RUS",
         "73800.0"
        ],
        [
         "Y356O8197RUS",
         "69794.5864661654"
        ],
        [
         "H004MH197RUS",
         "69300.0"
        ],
        [
         "O672E8197RUS",
         "63300.0"
        ],
        [
         "M580CH197RUS",
         "57000.0"
        ],
        [
         "96857X197RUS",
         "56700.0"
        ],
        [
         "Y7129Y50RUS",
         "56594.5864661654"
        ],
        [
         "X767HY197RUS",
         "54000.0"
        ],
        [
         "7844C8197RUS",
         "51000.0"
        ],
        [
         "X759HY197RUS",
         "50000.0"
        ],
        [
         "9943KK197RUS",
         "49500.0"
        ],
        [
         "X015HY197RUS",
         "48000.0"
        ],
        [
         "K889HY161RUS",
         "46200.0"
        ],
        [
         "X908XC197RUS",
         "46000.0"
        ],
        [
         "7788KT197RUS",
         "44594.5864661654"
        ],
        [
         "7248C8197RUS",
         "43000.0"
        ],
        [
         "E34877152RUS",
         "42700.0"
        ],
        [
         "M0289X197RUS",
         "40600.0"
        ],
        [
         "H427YH197RUS",
         "39600.0"
        ],
        [
         "O77997197RUS",
         "36594.5864661654"
        ],
        [
         "T6419O50RUS",
         "36000.0"
        ],
        [
         "T020OX197RUS",
         "34300.0"
        ],
        [
         "9182CE154RUS",
         "33000.0"
        ],
        [
         "9683EC178RUS",
         "32500.0"
        ],
        [
         "H889YK197RUS",
         "31800.0"
        ],
        [
         "Y966O8197RUS",
         "31200.0"
        ],
        [
         "T769OT197RUS",
         "30900.0"
        ],
        [
         "9881HX152RUS",
         "30900.0"
        ],
        [
         "O143HO197RUS",
         "30300.0"
        ],
        [
         "M0269X197RUS",
         "29194.586466165398"
        ],
        [
         "9938KK197RUS",
         "28500.0"
        ],
        [
         "Y388E877RUS",
         "28500.0"
        ],
        [
         "H305T8197RUS",
         "28100.0"
        ],
        [
         "K339T8197RUS",
         "27794.586466165398"
        ],
        [
         "O134HE197RUS",
         "27594.586466165398"
        ],
        [
         "T399KX197RUS",
         "25500.0"
        ]
       ],
       "shape": {
        "columns": 1,
        "rows": 531
       }
      },
      "text/html": [
       "<div>\n",
       "<style scoped>\n",
       "    .dataframe tbody tr th:only-of-type {\n",
       "        vertical-align: middle;\n",
       "    }\n",
       "\n",
       "    .dataframe tbody tr th {\n",
       "        vertical-align: top;\n",
       "    }\n",
       "\n",
       "    .dataframe thead th {\n",
       "        text-align: right;\n",
       "    }\n",
       "</style>\n",
       "<table border=\"1\" class=\"dataframe\">\n",
       "  <thead>\n",
       "    <tr style=\"text-align: right;\">\n",
       "      <th></th>\n",
       "      <th>Fines</th>\n",
       "    </tr>\n",
       "    <tr>\n",
       "      <th>CarNumber</th>\n",
       "      <th></th>\n",
       "    </tr>\n",
       "  </thead>\n",
       "  <tbody>\n",
       "    <tr>\n",
       "      <th>X758HY197RUS</th>\n",
       "      <td>242000.0</td>\n",
       "    </tr>\n",
       "    <tr>\n",
       "      <th>9020YC197RUS</th>\n",
       "      <td>217500.0</td>\n",
       "    </tr>\n",
       "    <tr>\n",
       "      <th>M0279X197RUS</th>\n",
       "      <td>216000.0</td>\n",
       "    </tr>\n",
       "    <tr>\n",
       "      <th>Y352O8197RUS</th>\n",
       "      <td>207200.0</td>\n",
       "    </tr>\n",
       "    <tr>\n",
       "      <th>Y778EE197RUS</th>\n",
       "      <td>192000.0</td>\n",
       "    </tr>\n",
       "    <tr>\n",
       "      <th>...</th>\n",
       "      <td>...</td>\n",
       "    </tr>\n",
       "    <tr>\n",
       "      <th>83218C154RUS</th>\n",
       "      <td>100.0</td>\n",
       "    </tr>\n",
       "    <tr>\n",
       "      <th>Y195O8161RUS</th>\n",
       "      <td>100.0</td>\n",
       "    </tr>\n",
       "    <tr>\n",
       "      <th>K376HE161RUS</th>\n",
       "      <td>100.0</td>\n",
       "    </tr>\n",
       "    <tr>\n",
       "      <th>705787163RUS</th>\n",
       "      <td>100.0</td>\n",
       "    </tr>\n",
       "    <tr>\n",
       "      <th>K326T8197RUS</th>\n",
       "      <td>100.0</td>\n",
       "    </tr>\n",
       "  </tbody>\n",
       "</table>\n",
       "<p>531 rows × 1 columns</p>\n",
       "</div>"
      ],
      "text/plain": [
       "                 Fines\n",
       "CarNumber             \n",
       "X758HY197RUS  242000.0\n",
       "9020YC197RUS  217500.0\n",
       "M0279X197RUS  216000.0\n",
       "Y352O8197RUS  207200.0\n",
       "Y778EE197RUS  192000.0\n",
       "...                ...\n",
       "83218C154RUS     100.0\n",
       "Y195O8161RUS     100.0\n",
       "K376HE161RUS     100.0\n",
       "705787163RUS     100.0\n",
       "K326T8197RUS     100.0\n",
       "\n",
       "[531 rows x 1 columns]"
      ]
     },
     "execution_count": 56,
     "metadata": {},
     "output_type": "execute_result"
    }
   ],
   "source": [
    "number_sum = pd.DataFrame(df.groupby(df.index).sum()[\"Fines\"])\n",
    "number_sum.sort_values(\"Fines\", ascending=False)"
   ]
  },
  {
   "cell_type": "code",
   "execution_count": 57,
   "metadata": {},
   "outputs": [
    {
     "data": {
      "application/vnd.microsoft.datawrangler.viewer.v0+json": {
       "columns": [
        {
         "name": "CarNumber",
         "rawType": "object",
         "type": "string"
        },
        {
         "name": "Refund",
         "rawType": "int64",
         "type": "integer"
        },
        {
         "name": "Fines",
         "rawType": "float64",
         "type": "float"
        },
        {
         "name": "Make",
         "rawType": "object",
         "type": "string"
        },
        {
         "name": "Model",
         "rawType": "object",
         "type": "string"
        }
       ],
       "conversionMethod": "pd.DataFrame",
       "ref": "0ed3eab3-509c-4f6a-9194-01bc04c9a85f",
       "rows": [
        [
         "X758HY197RUS",
         "2",
         "24200.0",
         "Ford",
         "Focus"
        ],
        [
         "X758HY197RUS",
         "2",
         "72600.0",
         "Ford",
         "Focus"
        ],
        [
         "X758HY197RUS",
         "2",
         "145200.0",
         "Ford",
         "Focus"
        ]
       ],
       "shape": {
        "columns": 4,
        "rows": 3
       }
      },
      "text/html": [
       "<div>\n",
       "<style scoped>\n",
       "    .dataframe tbody tr th:only-of-type {\n",
       "        vertical-align: middle;\n",
       "    }\n",
       "\n",
       "    .dataframe tbody tr th {\n",
       "        vertical-align: top;\n",
       "    }\n",
       "\n",
       "    .dataframe thead th {\n",
       "        text-align: right;\n",
       "    }\n",
       "</style>\n",
       "<table border=\"1\" class=\"dataframe\">\n",
       "  <thead>\n",
       "    <tr style=\"text-align: right;\">\n",
       "      <th></th>\n",
       "      <th>Refund</th>\n",
       "      <th>Fines</th>\n",
       "      <th>Make</th>\n",
       "      <th>Model</th>\n",
       "    </tr>\n",
       "    <tr>\n",
       "      <th>CarNumber</th>\n",
       "      <th></th>\n",
       "      <th></th>\n",
       "      <th></th>\n",
       "      <th></th>\n",
       "    </tr>\n",
       "  </thead>\n",
       "  <tbody>\n",
       "    <tr>\n",
       "      <th>X758HY197RUS</th>\n",
       "      <td>2</td>\n",
       "      <td>24200.0</td>\n",
       "      <td>Ford</td>\n",
       "      <td>Focus</td>\n",
       "    </tr>\n",
       "    <tr>\n",
       "      <th>X758HY197RUS</th>\n",
       "      <td>2</td>\n",
       "      <td>72600.0</td>\n",
       "      <td>Ford</td>\n",
       "      <td>Focus</td>\n",
       "    </tr>\n",
       "    <tr>\n",
       "      <th>X758HY197RUS</th>\n",
       "      <td>2</td>\n",
       "      <td>145200.0</td>\n",
       "      <td>Ford</td>\n",
       "      <td>Focus</td>\n",
       "    </tr>\n",
       "  </tbody>\n",
       "</table>\n",
       "</div>"
      ],
      "text/plain": [
       "              Refund     Fines  Make  Model\n",
       "CarNumber                                  \n",
       "X758HY197RUS       2   24200.0  Ford  Focus\n",
       "X758HY197RUS       2   72600.0  Ford  Focus\n",
       "X758HY197RUS       2  145200.0  Ford  Focus"
      ]
     },
     "execution_count": 57,
     "metadata": {},
     "output_type": "execute_result"
    }
   ],
   "source": [
    "df[df.index == \"X758HY197RUS\"]"
   ]
  },
  {
   "cell_type": "code",
   "execution_count": 94,
   "metadata": {},
   "outputs": [
    {
     "data": {
      "application/vnd.microsoft.datawrangler.viewer.v0+json": {
       "columns": [
        {
         "name": "CarNumber",
         "rawType": "object",
         "type": "string"
        },
        {
         "name": "Model",
         "rawType": "int64",
         "type": "integer"
        }
       ],
       "conversionMethod": "pd.DataFrame",
       "ref": "42f1d35b-88cb-451d-9cca-e2289fae59b9",
       "rows": [
        [
         "704687163RUS",
         "1"
        ],
        [
         "O719MM163RUS",
         "1"
        ],
        [
         "O6939X163RUS",
         "1"
        ],
        [
         "O68897197RUS",
         "1"
        ],
        [
         "O673E8197RUS",
         "1"
        ],
        [
         "O672E8197RUS",
         "1"
        ],
        [
         "O669E8197RUS",
         "1"
        ],
        [
         "O64297197RUS",
         "1"
        ],
        [
         "O64097197RUS",
         "1"
        ],
        [
         "O50699163RUS",
         "1"
        ],
        [
         "O50197197RUS",
         "1"
        ],
        [
         "O49897197RUS",
         "1"
        ],
        [
         "O49797197RUS",
         "1"
        ],
        [
         "O481OH77RUS",
         "1"
        ],
        [
         "O421OT161RUS",
         "1"
        ],
        [
         "O39997197RUS",
         "1"
        ],
        [
         "O39897197RUS",
         "1"
        ],
        [
         "O275O7161RUS",
         "1"
        ],
        [
         "O22397197RUS",
         "1"
        ],
        [
         "O22297197RUS",
         "1"
        ],
        [
         "O22097197RUS",
         "1"
        ],
        [
         "O21997197RUS",
         "1"
        ],
        [
         "O143HO197RUS",
         "1"
        ],
        [
         "O136HO197RUS",
         "1"
        ],
        [
         "O134HE197RUS",
         "1"
        ],
        [
         "O085E8197RUS",
         "1"
        ],
        [
         "O058M7161RUS",
         "1"
        ],
        [
         "O02597197RUS",
         "1"
        ],
        [
         "O02397197RUS",
         "1"
        ],
        [
         "O017KO197RUS",
         "1"
        ],
        [
         "M942OT152RUS",
         "1"
        ],
        [
         "O718MM163RUS",
         "1"
        ],
        [
         "O752MX161RUS",
         "1"
        ],
        [
         "M701T9152RUS",
         "1"
        ],
        [
         "O753MX161RUS",
         "1"
        ],
        [
         "T479KX197RUS",
         "1"
        ],
        [
         "T478KX197RUS",
         "1"
        ],
        [
         "T477KX197RUS",
         "1"
        ],
        [
         "T476KX197RUS",
         "1"
        ],
        [
         "T399KX197RUS",
         "1"
        ],
        [
         "T396KX197RUS",
         "1"
        ],
        [
         "T395OT197RUS",
         "1"
        ],
        [
         "T395KX197RUS",
         "1"
        ],
        [
         "T394KX197RUS",
         "1"
        ],
        [
         "T341CC96RUS",
         "1"
        ],
        [
         "T288CT96RUS",
         "1"
        ],
        [
         "T272HH163RUS",
         "1"
        ],
        [
         "T2639T116RUS",
         "1"
        ],
        [
         "T242H8197RUS",
         "1"
        ],
        [
         "T195OK161RUS",
         "1"
        ]
       ],
       "shape": {
        "columns": 1,
        "rows": 531
       }
      },
      "text/html": [
       "<div>\n",
       "<style scoped>\n",
       "    .dataframe tbody tr th:only-of-type {\n",
       "        vertical-align: middle;\n",
       "    }\n",
       "\n",
       "    .dataframe tbody tr th {\n",
       "        vertical-align: top;\n",
       "    }\n",
       "\n",
       "    .dataframe thead th {\n",
       "        text-align: right;\n",
       "    }\n",
       "</style>\n",
       "<table border=\"1\" class=\"dataframe\">\n",
       "  <thead>\n",
       "    <tr style=\"text-align: right;\">\n",
       "      <th></th>\n",
       "      <th>Model</th>\n",
       "    </tr>\n",
       "    <tr>\n",
       "      <th>CarNumber</th>\n",
       "      <th></th>\n",
       "    </tr>\n",
       "  </thead>\n",
       "  <tbody>\n",
       "    <tr>\n",
       "      <th>704687163RUS</th>\n",
       "      <td>1</td>\n",
       "    </tr>\n",
       "    <tr>\n",
       "      <th>O719MM163RUS</th>\n",
       "      <td>1</td>\n",
       "    </tr>\n",
       "    <tr>\n",
       "      <th>O6939X163RUS</th>\n",
       "      <td>1</td>\n",
       "    </tr>\n",
       "    <tr>\n",
       "      <th>O68897197RUS</th>\n",
       "      <td>1</td>\n",
       "    </tr>\n",
       "    <tr>\n",
       "      <th>O673E8197RUS</th>\n",
       "      <td>1</td>\n",
       "    </tr>\n",
       "    <tr>\n",
       "      <th>...</th>\n",
       "      <td>...</td>\n",
       "    </tr>\n",
       "    <tr>\n",
       "      <th>Y687HM197RUS</th>\n",
       "      <td>0</td>\n",
       "    </tr>\n",
       "    <tr>\n",
       "      <th>Y693HM197RUS</th>\n",
       "      <td>0</td>\n",
       "    </tr>\n",
       "    <tr>\n",
       "      <th>M589CH197RUS</th>\n",
       "      <td>0</td>\n",
       "    </tr>\n",
       "    <tr>\n",
       "      <th>H837YK197RUS</th>\n",
       "      <td>0</td>\n",
       "    </tr>\n",
       "    <tr>\n",
       "      <th>X023HY197RUS</th>\n",
       "      <td>0</td>\n",
       "    </tr>\n",
       "  </tbody>\n",
       "</table>\n",
       "<p>531 rows × 1 columns</p>\n",
       "</div>"
      ],
      "text/plain": [
       "              Model\n",
       "CarNumber          \n",
       "704687163RUS      1\n",
       "O719MM163RUS      1\n",
       "O6939X163RUS      1\n",
       "O68897197RUS      1\n",
       "O673E8197RUS      1\n",
       "...             ...\n",
       "Y687HM197RUS      0\n",
       "Y693HM197RUS      0\n",
       "M589CH197RUS      0\n",
       "H837YK197RUS      0\n",
       "X023HY197RUS      0\n",
       "\n",
       "[531 rows x 1 columns]"
      ]
     },
     "execution_count": 94,
     "metadata": {},
     "output_type": "execute_result"
    }
   ],
   "source": [
    "pd.DataFrame(df.groupby(df.index)[\"Model\"].nunique()).sort_values(\"Model\", ascending=False)\n",
    "\n"
   ]
  }
 ],
 "metadata": {
  "kernelspec": {
   "display_name": ".venv",
   "language": "python",
   "name": "python3"
  },
  "language_info": {
   "codemirror_mode": {
    "name": "ipython",
    "version": 3
   },
   "file_extension": ".py",
   "mimetype": "text/x-python",
   "name": "python",
   "nbconvert_exporter": "python",
   "pygments_lexer": "ipython3",
   "version": "3.13.1"
  }
 },
 "nbformat": 4,
 "nbformat_minor": 2
}
