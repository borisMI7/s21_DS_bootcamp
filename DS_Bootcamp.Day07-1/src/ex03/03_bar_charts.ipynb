{
 "cells": [
  {
   "cell_type": "markdown",
   "metadata": {},
   "source": [
    "# Bar charts"
   ]
  },
  {
   "cell_type": "code",
   "execution_count": 1,
   "metadata": {},
   "outputs": [],
   "source": [
    "import pandas as pd\n",
    "import sqlite3"
   ]
  },
  {
   "cell_type": "code",
   "execution_count": 2,
   "metadata": {},
   "outputs": [],
   "source": [
    "conn = sqlite3.connect(\"../../data/checking-logs.sqlite\")"
   ]
  },
  {
   "cell_type": "code",
   "execution_count": 3,
   "metadata": {},
   "outputs": [],
   "source": [
    "df = pd.io.sql.read_sql(\"SELECT timestamp FROM checker WHERE uid LIKE 'user_%'\", conn, parse_dates=[\"timestamp\"])"
   ]
  },
  {
   "cell_type": "code",
   "execution_count": 4,
   "metadata": {},
   "outputs": [],
   "source": [
    "df[\"hour\"] = df[\"timestamp\"].dt.hour\n",
    "df[\"weekday\"] = df[\"timestamp\"].dt.day_name()\n",
    "df[\"date\"] = df[\"timestamp\"].dt.date\n",
    "df[\"is_weekend\"] = df[\"weekday\"].isin([\"Saturday\", \"Sunday\"])\n"
   ]
  },
  {
   "cell_type": "code",
   "execution_count": 5,
   "metadata": {},
   "outputs": [],
   "source": [
    "commit_count = df.groupby([\"is_weekend\", \"date\", \"hour\"]).size().reset_index(name = \"commit_count\")"
   ]
  },
  {
   "cell_type": "code",
   "execution_count": 6,
   "metadata": {},
   "outputs": [],
   "source": [
    "mean_commit_count = commit_count.groupby([\"is_weekend\", \"hour\"])[\"commit_count\"].mean().reset_index(name = \"mean\")"
   ]
  },
  {
   "cell_type": "code",
   "execution_count": 7,
   "metadata": {},
   "outputs": [],
   "source": [
    "final_df = mean_commit_count.pivot(index=\"hour\", columns=\"is_weekend\", values = \"mean\")"
   ]
  },
  {
   "cell_type": "code",
   "execution_count": 8,
   "metadata": {},
   "outputs": [
    {
     "data": {
      "application/vnd.microsoft.datawrangler.viewer.v0+json": {
       "columns": [
        {
         "name": "index",
         "rawType": "int64",
         "type": "integer"
        },
        {
         "name": "working_day",
         "rawType": "float64",
         "type": "float"
        },
        {
         "name": "weekend",
         "rawType": "float64",
         "type": "float"
        }
       ],
       "conversionMethod": "pd.DataFrame",
       "ref": "27e0f49e-6f56-4b2d-973a-fe8e2c95842c",
       "rows": [
        [
         "0",
         "3.0",
         "2.0"
        ],
        [
         "1",
         "0.0",
         "6.0"
        ],
        [
         "2",
         "0.0",
         "0.0"
        ],
        [
         "3",
         "2.0",
         "1.0"
        ],
        [
         "4",
         "0.0",
         "0.0"
        ],
        [
         "5",
         "7.5",
         "2.0"
        ],
        [
         "6",
         "1.5",
         "0.0"
        ],
        [
         "7",
         "5.166666666666667",
         "4.0"
        ],
        [
         "8",
         "3.7",
         "7.0"
        ],
        [
         "9",
         "6.0",
         "3.6666666666666665"
        ],
        [
         "10",
         "13.2",
         "7.0"
        ],
        [
         "11",
         "6.769230769230769",
         "23.6"
        ],
        [
         "12",
         "7.181818181818182",
         "9.5"
        ],
        [
         "13",
         "8.11111111111111",
         "18.0"
        ],
        [
         "14",
         "10.166666666666666",
         "12.428571428571429"
        ],
        [
         "15",
         "12.818181818181818",
         "14.25"
        ],
        [
         "16",
         "18.88888888888889",
         "14.8"
        ],
        [
         "17",
         "16.0",
         "7.142857142857143"
        ],
        [
         "18",
         "15.181818181818182",
         "9.714285714285714"
        ],
        [
         "19",
         "17.833333333333332",
         "13.125"
        ],
        [
         "20",
         "14.076923076923077",
         "13.0"
        ],
        [
         "21",
         "24.333333333333332",
         "10.285714285714286"
        ],
        [
         "22",
         "3.75",
         "9.833333333333334"
        ],
        [
         "23",
         "5.0",
         "6.4"
        ]
       ],
       "shape": {
        "columns": 2,
        "rows": 24
       }
      },
      "text/html": [
       "<div>\n",
       "<style scoped>\n",
       "    .dataframe tbody tr th:only-of-type {\n",
       "        vertical-align: middle;\n",
       "    }\n",
       "\n",
       "    .dataframe tbody tr th {\n",
       "        vertical-align: top;\n",
       "    }\n",
       "\n",
       "    .dataframe thead th {\n",
       "        text-align: right;\n",
       "    }\n",
       "</style>\n",
       "<table border=\"1\" class=\"dataframe\">\n",
       "  <thead>\n",
       "    <tr style=\"text-align: right;\">\n",
       "      <th>is_weekend</th>\n",
       "      <th>working_day</th>\n",
       "      <th>weekend</th>\n",
       "    </tr>\n",
       "  </thead>\n",
       "  <tbody>\n",
       "    <tr>\n",
       "      <th>0</th>\n",
       "      <td>3.000000</td>\n",
       "      <td>2.000000</td>\n",
       "    </tr>\n",
       "    <tr>\n",
       "      <th>1</th>\n",
       "      <td>0.000000</td>\n",
       "      <td>6.000000</td>\n",
       "    </tr>\n",
       "    <tr>\n",
       "      <th>2</th>\n",
       "      <td>0.000000</td>\n",
       "      <td>0.000000</td>\n",
       "    </tr>\n",
       "    <tr>\n",
       "      <th>3</th>\n",
       "      <td>2.000000</td>\n",
       "      <td>1.000000</td>\n",
       "    </tr>\n",
       "    <tr>\n",
       "      <th>4</th>\n",
       "      <td>0.000000</td>\n",
       "      <td>0.000000</td>\n",
       "    </tr>\n",
       "    <tr>\n",
       "      <th>5</th>\n",
       "      <td>7.500000</td>\n",
       "      <td>2.000000</td>\n",
       "    </tr>\n",
       "    <tr>\n",
       "      <th>6</th>\n",
       "      <td>1.500000</td>\n",
       "      <td>0.000000</td>\n",
       "    </tr>\n",
       "    <tr>\n",
       "      <th>7</th>\n",
       "      <td>5.166667</td>\n",
       "      <td>4.000000</td>\n",
       "    </tr>\n",
       "    <tr>\n",
       "      <th>8</th>\n",
       "      <td>3.700000</td>\n",
       "      <td>7.000000</td>\n",
       "    </tr>\n",
       "    <tr>\n",
       "      <th>9</th>\n",
       "      <td>6.000000</td>\n",
       "      <td>3.666667</td>\n",
       "    </tr>\n",
       "    <tr>\n",
       "      <th>10</th>\n",
       "      <td>13.200000</td>\n",
       "      <td>7.000000</td>\n",
       "    </tr>\n",
       "    <tr>\n",
       "      <th>11</th>\n",
       "      <td>6.769231</td>\n",
       "      <td>23.600000</td>\n",
       "    </tr>\n",
       "    <tr>\n",
       "      <th>12</th>\n",
       "      <td>7.181818</td>\n",
       "      <td>9.500000</td>\n",
       "    </tr>\n",
       "    <tr>\n",
       "      <th>13</th>\n",
       "      <td>8.111111</td>\n",
       "      <td>18.000000</td>\n",
       "    </tr>\n",
       "    <tr>\n",
       "      <th>14</th>\n",
       "      <td>10.166667</td>\n",
       "      <td>12.428571</td>\n",
       "    </tr>\n",
       "    <tr>\n",
       "      <th>15</th>\n",
       "      <td>12.818182</td>\n",
       "      <td>14.250000</td>\n",
       "    </tr>\n",
       "    <tr>\n",
       "      <th>16</th>\n",
       "      <td>18.888889</td>\n",
       "      <td>14.800000</td>\n",
       "    </tr>\n",
       "    <tr>\n",
       "      <th>17</th>\n",
       "      <td>16.000000</td>\n",
       "      <td>7.142857</td>\n",
       "    </tr>\n",
       "    <tr>\n",
       "      <th>18</th>\n",
       "      <td>15.181818</td>\n",
       "      <td>9.714286</td>\n",
       "    </tr>\n",
       "    <tr>\n",
       "      <th>19</th>\n",
       "      <td>17.833333</td>\n",
       "      <td>13.125000</td>\n",
       "    </tr>\n",
       "    <tr>\n",
       "      <th>20</th>\n",
       "      <td>14.076923</td>\n",
       "      <td>13.000000</td>\n",
       "    </tr>\n",
       "    <tr>\n",
       "      <th>21</th>\n",
       "      <td>24.333333</td>\n",
       "      <td>10.285714</td>\n",
       "    </tr>\n",
       "    <tr>\n",
       "      <th>22</th>\n",
       "      <td>3.750000</td>\n",
       "      <td>9.833333</td>\n",
       "    </tr>\n",
       "    <tr>\n",
       "      <th>23</th>\n",
       "      <td>5.000000</td>\n",
       "      <td>6.400000</td>\n",
       "    </tr>\n",
       "  </tbody>\n",
       "</table>\n",
       "</div>"
      ],
      "text/plain": [
       "is_weekend  working_day    weekend\n",
       "0              3.000000   2.000000\n",
       "1              0.000000   6.000000\n",
       "2              0.000000   0.000000\n",
       "3              2.000000   1.000000\n",
       "4              0.000000   0.000000\n",
       "5              7.500000   2.000000\n",
       "6              1.500000   0.000000\n",
       "7              5.166667   4.000000\n",
       "8              3.700000   7.000000\n",
       "9              6.000000   3.666667\n",
       "10            13.200000   7.000000\n",
       "11             6.769231  23.600000\n",
       "12             7.181818   9.500000\n",
       "13             8.111111  18.000000\n",
       "14            10.166667  12.428571\n",
       "15            12.818182  14.250000\n",
       "16            18.888889  14.800000\n",
       "17            16.000000   7.142857\n",
       "18            15.181818   9.714286\n",
       "19            17.833333  13.125000\n",
       "20            14.076923  13.000000\n",
       "21            24.333333  10.285714\n",
       "22             3.750000   9.833333\n",
       "23             5.000000   6.400000"
      ]
     },
     "execution_count": 8,
     "metadata": {},
     "output_type": "execute_result"
    }
   ],
   "source": [
    "full_index = pd.Series(range(0, 24))\n",
    "final_df = final_df.reindex(full_index)\n",
    "final_df.rename(axis=1, mapper = {True: \"weekend\", False: \"working_day\"}, inplace=True)\n",
    "final_df.fillna(0, inplace=True)\n",
    "final_df"
   ]
  },
  {
   "cell_type": "code",
   "execution_count": 9,
   "metadata": {},
   "outputs": [
    {
     "data": {
      "image/png": "[encoded data removed]",
      "text/plain": [
       "<Figure size 1500x800 with 2 Axes>"
      ]
     },
     "metadata": {},
     "output_type": "display_data"
    }
   ],
   "source": [
    "final_df.plot(\n",
    "            kind = \"bar\",\n",
    "            subplots = [[\"weekend\"], [\"working_day\"]],\n",
    "            figsize = (15, 8),\n",
    "            fontsize = 8,\n",
    "            title = \"Commits per hour\",\n",
    "            color = [\"gray\", \"darkgrey\"]\n",
    "            );"
   ]
  },
  {
   "cell_type": "markdown",
   "metadata": {},
   "source": [
    "Is the dynamic different on working days and weekends?"
   ]
  },
  {
   "cell_type": "markdown",
   "metadata": {},
   "source": [
    "#### Yes:\n",
    "    most popular hour on weekend - 11\n",
    "    most popular hour in working day = 21"
   ]
  },
  {
   "cell_type": "code",
   "execution_count": 10,
   "metadata": {},
   "outputs": [],
   "source": [
    "conn.close()"
   ]
  }
 ],
 "metadata": {
  "kernelspec": {
   "display_name": ".venv",
   "language": "python",
   "name": "python3"
  },
  "language_info": {
   "codemirror_mode": {
    "name": "ipython",
    "version": 3
   },
   "file_extension": ".py",
   "mimetype": "text/x-python",
   "name": "python",
   "nbconvert_exporter": "python",
   "pygments_lexer": "ipython3",
   "version": "3.13.1"
  }
 },
 "nbformat": 4,
 "nbformat_minor": 2
}
