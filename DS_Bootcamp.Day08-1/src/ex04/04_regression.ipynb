{
 "cells": [
  {
   "cell_type": "markdown",
   "metadata": {},
   "source": [
    "# Day 08. Exercise 04\n",
    "# Regression"
   ]
  },
  {
   "cell_type": "markdown",
   "metadata": {},
   "source": [
    "## 0. Imports"
   ]
  },
  {
   "cell_type": "code",
   "execution_count": 2,
   "metadata": {},
   "outputs": [],
   "source": [
    "import pandas as pd\n",
    "import numpy as np\n",
    "from sklearn.model_selection import train_test_split\n",
    "from sklearn.model_selection import KFold\n",
    "from sklearn.metrics import root_mean_squared_error\n",
    "from sklearn.linear_model import LinearRegression\n",
    "from sklearn.tree import DecisionTreeRegressor\n",
    "from sklearn.ensemble import RandomForestRegressor"
   ]
  },
  {
   "cell_type": "markdown",
   "metadata": {},
   "source": [
    "## 1. Preprocessing"
   ]
  },
  {
   "cell_type": "markdown",
   "metadata": {},
   "source": [
    "1. Read the file [`checker_regression.csv`](https://drive.google.com/file/d/1L8auBzJEghWFewznhhFpcrqxW4GqcfRY/view?usp=sharing).\n",
    "2. Fill the missing values in it with `0`.\n",
    "3. Make a split of your dataset on train and test with parameters `test_size=0.2`."
   ]
  },
  {
   "cell_type": "code",
   "execution_count": 3,
   "metadata": {},
   "outputs": [],
   "source": [
    "df = pd.read_csv(\"../../data/checker_regression.csv\")"
   ]
  },
  {
   "cell_type": "code",
   "execution_count": 4,
   "metadata": {},
   "outputs": [],
   "source": [
    "df.fillna(0, inplace=True)"
   ]
  },
  {
   "cell_type": "code",
   "execution_count": 5,
   "metadata": {},
   "outputs": [],
   "source": [
    "X = df.drop(axis = 1, labels=['AVG(diff)', 'uid'])\n",
    "y = df['AVG(diff)']\n",
    "X_train, X_test, y_train, y_test = train_test_split(X, y, test_size=0.2)"
   ]
  },
  {
   "cell_type": "code",
   "execution_count": 6,
   "metadata": {},
   "outputs": [
    {
     "data": {
      "application/vnd.microsoft.datawrangler.viewer.v0+json": {
       "columns": [
        {
         "name": "index",
         "rawType": "int64",
         "type": "integer"
        },
        {
         "name": "uid",
         "rawType": "object",
         "type": "string"
        },
        {
         "name": "num_commits",
         "rawType": "int64",
         "type": "integer"
        },
        {
         "name": "pageviews",
         "rawType": "float64",
         "type": "float"
        },
        {
         "name": "AVG(diff)",
         "rawType": "float64",
         "type": "float"
        }
       ],
       "conversionMethod": "pd.DataFrame",
       "ref": "ba93b388-b672-4b93-b3ba-246f5ab7d529",
       "rows": [
        [
         "0",
         "user_1",
         "62",
         "28.0",
         "0.0"
        ],
        [
         "1",
         "user_1",
         "62",
         "28.0",
         "0.0"
        ],
        [
         "2",
         "user_1",
         "62",
         "28.0",
         "0.0"
        ],
        [
         "3",
         "user_1",
         "62",
         "28.0",
         "0.0"
        ],
        [
         "4",
         "user_1",
         "62",
         "28.0",
         "0.0"
        ],
        [
         "5",
         "user_1",
         "62",
         "28.0",
         "0.0"
        ],
        [
         "6",
         "user_10",
         "20",
         "89.0",
         "0.0"
        ],
        [
         "7",
         "user_10",
         "20",
         "89.0",
         "0.0"
        ],
        [
         "8",
         "user_10",
         "20",
         "89.0",
         "0.0"
        ],
        [
         "9",
         "user_10",
         "20",
         "89.0",
         "0.0"
        ],
        [
         "10",
         "user_10",
         "20",
         "89.0",
         "0.0"
        ],
        [
         "11",
         "user_10",
         "20",
         "89.0",
         "0.0"
        ],
        [
         "12",
         "user_11",
         "7",
         "0.0",
         "-2.0"
        ],
        [
         "13",
         "user_12",
         "86",
         "0.0",
         "-89.0"
        ],
        [
         "14",
         "user_13",
         "52",
         "0.0",
         "-48.5"
        ],
        [
         "15",
         "user_14",
         "61",
         "143.0",
         "0.0"
        ],
        [
         "16",
         "user_14",
         "61",
         "143.0",
         "0.0"
        ],
        [
         "17",
         "user_14",
         "61",
         "143.0",
         "0.0"
        ],
        [
         "18",
         "user_14",
         "61",
         "143.0",
         "0.0"
        ],
        [
         "19",
         "user_15",
         "23",
         "0.0",
         "-17.5"
        ],
        [
         "20",
         "user_16",
         "41",
         "0.0",
         "-39.333333333333336"
        ],
        [
         "21",
         "user_17",
         "51",
         "47.0",
         "0.0"
        ],
        [
         "22",
         "user_17",
         "51",
         "47.0",
         "0.0"
        ],
        [
         "23",
         "user_17",
         "51",
         "47.0",
         "0.0"
        ],
        [
         "24",
         "user_17",
         "51",
         "47.0",
         "0.0"
        ],
        [
         "25",
         "user_17",
         "51",
         "47.0",
         "0.0"
        ],
        [
         "26",
         "user_17",
         "51",
         "47.0",
         "0.0"
        ],
        [
         "27",
         "user_18",
         "5",
         "3.0",
         "0.0"
        ],
        [
         "28",
         "user_18",
         "5",
         "3.0",
         "0.0"
        ],
        [
         "29",
         "user_18",
         "5",
         "3.0",
         "0.0"
        ],
        [
         "30",
         "user_18",
         "5",
         "3.0",
         "0.0"
        ],
        [
         "31",
         "user_19",
         "118",
         "16.0",
         "0.0"
        ],
        [
         "32",
         "user_19",
         "118",
         "16.0",
         "0.0"
        ],
        [
         "33",
         "user_19",
         "118",
         "16.0",
         "0.0"
        ],
        [
         "34",
         "user_19",
         "118",
         "16.0",
         "0.0"
        ],
        [
         "35",
         "user_19",
         "118",
         "16.0",
         "0.0"
        ],
        [
         "36",
         "user_2",
         "46",
         "0.0",
         "-137.2"
        ],
        [
         "37",
         "user_20",
         "57",
         "0.0",
         "-27.0"
        ],
        [
         "38",
         "user_21",
         "65",
         "10.0",
         "0.0"
        ],
        [
         "39",
         "user_21",
         "65",
         "10.0",
         "0.0"
        ],
        [
         "40",
         "user_21",
         "65",
         "10.0",
         "0.0"
        ],
        [
         "41",
         "user_21",
         "65",
         "10.0",
         "0.0"
        ],
        [
         "42",
         "user_21",
         "65",
         "10.0",
         "0.0"
        ],
        [
         "43",
         "user_22",
         "5",
         "0.0",
         "-141.4"
        ],
        [
         "44",
         "user_23",
         "6",
         "0.0",
         "-84.0"
        ],
        [
         "45",
         "user_24",
         "37",
         "0.0",
         "-223.6"
        ],
        [
         "46",
         "user_25",
         "79",
         "179.0",
         "0.0"
        ],
        [
         "47",
         "user_25",
         "79",
         "179.0",
         "0.0"
        ],
        [
         "48",
         "user_25",
         "79",
         "179.0",
         "0.0"
        ],
        [
         "49",
         "user_25",
         "79",
         "179.0",
         "0.0"
        ]
       ],
       "shape": {
        "columns": 4,
        "rows": 77
       }
      },
      "text/html": [
       "<div>\n",
       "<style scoped>\n",
       "    .dataframe tbody tr th:only-of-type {\n",
       "        vertical-align: middle;\n",
       "    }\n",
       "\n",
       "    .dataframe tbody tr th {\n",
       "        vertical-align: top;\n",
       "    }\n",
       "\n",
       "    .dataframe thead th {\n",
       "        text-align: right;\n",
       "    }\n",
       "</style>\n",
       "<table border=\"1\" class=\"dataframe\">\n",
       "  <thead>\n",
       "    <tr style=\"text-align: right;\">\n",
       "      <th></th>\n",
       "      <th>uid</th>\n",
       "      <th>num_commits</th>\n",
       "      <th>pageviews</th>\n",
       "      <th>AVG(diff)</th>\n",
       "    </tr>\n",
       "  </thead>\n",
       "  <tbody>\n",
       "    <tr>\n",
       "      <th>0</th>\n",
       "      <td>user_1</td>\n",
       "      <td>62</td>\n",
       "      <td>28.0</td>\n",
       "      <td>0.00</td>\n",
       "    </tr>\n",
       "    <tr>\n",
       "      <th>1</th>\n",
       "      <td>user_1</td>\n",
       "      <td>62</td>\n",
       "      <td>28.0</td>\n",
       "      <td>0.00</td>\n",
       "    </tr>\n",
       "    <tr>\n",
       "      <th>2</th>\n",
       "      <td>user_1</td>\n",
       "      <td>62</td>\n",
       "      <td>28.0</td>\n",
       "      <td>0.00</td>\n",
       "    </tr>\n",
       "    <tr>\n",
       "      <th>3</th>\n",
       "      <td>user_1</td>\n",
       "      <td>62</td>\n",
       "      <td>28.0</td>\n",
       "      <td>0.00</td>\n",
       "    </tr>\n",
       "    <tr>\n",
       "      <th>4</th>\n",
       "      <td>user_1</td>\n",
       "      <td>62</td>\n",
       "      <td>28.0</td>\n",
       "      <td>0.00</td>\n",
       "    </tr>\n",
       "    <tr>\n",
       "      <th>...</th>\n",
       "      <td>...</td>\n",
       "      <td>...</td>\n",
       "      <td>...</td>\n",
       "      <td>...</td>\n",
       "    </tr>\n",
       "    <tr>\n",
       "      <th>72</th>\n",
       "      <td>user_31</td>\n",
       "      <td>128</td>\n",
       "      <td>0.0</td>\n",
       "      <td>-104.75</td>\n",
       "    </tr>\n",
       "    <tr>\n",
       "      <th>73</th>\n",
       "      <td>user_4</td>\n",
       "      <td>40</td>\n",
       "      <td>0.0</td>\n",
       "      <td>-175.60</td>\n",
       "    </tr>\n",
       "    <tr>\n",
       "      <th>74</th>\n",
       "      <td>user_6</td>\n",
       "      <td>15</td>\n",
       "      <td>0.0</td>\n",
       "      <td>-62.60</td>\n",
       "    </tr>\n",
       "    <tr>\n",
       "      <th>75</th>\n",
       "      <td>user_7</td>\n",
       "      <td>8</td>\n",
       "      <td>0.0</td>\n",
       "      <td>-115.50</td>\n",
       "    </tr>\n",
       "    <tr>\n",
       "      <th>76</th>\n",
       "      <td>user_8</td>\n",
       "      <td>71</td>\n",
       "      <td>0.0</td>\n",
       "      <td>-160.40</td>\n",
       "    </tr>\n",
       "  </tbody>\n",
       "</table>\n",
       "<p>77 rows × 4 columns</p>\n",
       "</div>"
      ],
      "text/plain": [
       "        uid  num_commits  pageviews  AVG(diff)\n",
       "0    user_1           62       28.0       0.00\n",
       "1    user_1           62       28.0       0.00\n",
       "2    user_1           62       28.0       0.00\n",
       "3    user_1           62       28.0       0.00\n",
       "4    user_1           62       28.0       0.00\n",
       "..      ...          ...        ...        ...\n",
       "72  user_31          128        0.0    -104.75\n",
       "73   user_4           40        0.0    -175.60\n",
       "74   user_6           15        0.0     -62.60\n",
       "75   user_7            8        0.0    -115.50\n",
       "76   user_8           71        0.0    -160.40\n",
       "\n",
       "[77 rows x 4 columns]"
      ]
     },
     "execution_count": 6,
     "metadata": {},
     "output_type": "execute_result"
    }
   ],
   "source": [
    "df"
   ]
  },
  {
   "cell_type": "markdown",
   "metadata": {},
   "source": [
    "## 2. Crossvalidation"
   ]
  },
  {
   "cell_type": "markdown",
   "metadata": {},
   "source": [
    "1. Write a function `crossval` that takes as arguments: `n_splits` for `KFold()`, `X`, `y`, model instantiated class with the parameters of the model (keep in mind: `random_state=21`) and returns for a given model class a result like this:\n",
    "\n",
    "```\n",
    "train -  2696.4496895424836   |   test -  1589.9979527104958\n",
    "train -  2660.957874001452   |   test -  2075.102636027137\n",
    "train -  2847.315529246795   |   test -  320.911928168403\n",
    "train -  2500.7691099659237   |   test -  4132.461382030178\n",
    "train -  2643.927917295123   |   test -  2237.8140952197878\n",
    "train -  2396.295678819444   |   test -  4509.650064742476\n",
    "train -  2003.402267924976   |   test -  8403.491474908551\n",
    "train -  2531.876094212613   |   test -  3135.944102735099\n",
    "train -  2683.1795186023123   |   test -  1796.01426292594\n",
    "train -  2537.1192483996338   |   test -  3439.29824116941\n",
    "Average RMSE on crossval is 3164.0686140637476\n",
    "```\n",
    "\n",
    "2. Run the function for `LinearRegression`, `DecisionTreeRegressor`, `RandomForestRegressor`. You may choose the parameters by yourself, but find the good enough for you."
   ]
  },
  {
   "cell_type": "code",
   "execution_count": 7,
   "metadata": {},
   "outputs": [],
   "source": [
    "def crossval(n_splits, X, y, model):\n",
    "    kf = KFold(n_splits)\n",
    "    err_list = []\n",
    "    for train_ind, test_ind in kf.split(X):\n",
    "        model.fit(X.iloc[train_ind], y.iloc[train_ind])\n",
    "        err_train = root_mean_squared_error(y.iloc[train_ind], model.predict(X.iloc[train_ind]))\n",
    "        err_test = root_mean_squared_error(y.iloc[test_ind], model.predict(X.iloc[test_ind]))\n",
    "        err_list.append(err_test)\n",
    "        print(\"train -\", err_train, \"|\", \"test -\", err_test)\n",
    "    print(\"Average RMSE on crossval is\", np.mean(err_list))"
   ]
  },
  {
   "cell_type": "code",
   "execution_count": 8,
   "metadata": {},
   "outputs": [
    {
     "name": "stdout",
     "output_type": "stream",
     "text": [
      "train - 39.311685239647296 | test - 59.20896179226765\n",
      "train - 49.0925440777224 | test - 42.64434788052653\n",
      "train - 51.16106648761358 | test - 37.00733021698582\n",
      "Average RMSE on crossval is 46.28687996326\n",
      "train - 23.865370785786162 | test - 42.08414262835693\n",
      "train - 34.77476345630167 | test - 22.367409637436538\n",
      "train - 33.55888657101393 | test - 26.310752459783433\n",
      "Average RMSE on crossval is 30.254101575192298\n",
      "train - 23.982427873056828 | test - 44.36629607504113\n",
      "train - 35.60226123187255 | test - 24.036414579955252\n",
      "train - 33.6722536417303 | test - 25.09099580249067\n",
      "Average RMSE on crossval is 31.16456881916235\n"
     ]
    }
   ],
   "source": [
    "m1 = LinearRegression(fit_intercept=False)\n",
    "m2 =  DecisionTreeRegressor(max_depth=1, random_state=21)\n",
    "m3 =  RandomForestRegressor(n_estimators=10, max_depth=1, random_state=21)\n",
    "\n",
    "crossval(3, X_train, y_train, m1)\n",
    "crossval(3, X_train, y_train, m2)\n",
    "crossval(3, X_train, y_train, m3)"
   ]
  },
  {
   "cell_type": "markdown",
   "metadata": {},
   "source": [
    "## 3. Predictions and evaluation"
   ]
  },
  {
   "cell_type": "markdown",
   "metadata": {},
   "source": [
    "1. Make predictions for the test dataset using each of the three models with the finalized parameters.\n",
    "2. Draw a plot for each of the models where the `x-axis` is the actual average difference and the `y-axis` is the prediction made by a model.\n",
    "3. How would plot look like in the ideal case? Put the answer to the markdown cell in the end of the section."
   ]
  },
  {
   "cell_type": "code",
   "execution_count": 20,
   "metadata": {},
   "outputs": [],
   "source": [
    "m1.fit(X_train, y_train)\n",
    "m2.fit(X_train, y_train)\n",
    "m3.fit(X_train, y_train);"
   ]
  },
  {
   "cell_type": "code",
   "execution_count": 19,
   "metadata": {},
   "outputs": [],
   "source": [
    "m1_pred = pd.Series(m1.predict(X_test))\n",
    "m2_pred = pd.Series(m2.predict(X_test))\n",
    "m3_pred = pd.Series(m3.predict(X_test))"
   ]
  },
  {
   "cell_type": "code",
   "execution_count": 14,
   "metadata": {},
   "outputs": [
    {
     "data": {
      "image/png": "[encoded data removed]",
      "text/plain": [
       "<Figure size 640x480 with 1 Axes>"
      ]
     },
     "metadata": {},
     "output_type": "display_data"
    }
   ],
   "source": [
    "pd.concat([y_test.reset_index(), m1_pred], axis=1).plot(x = \"AVG(diff)\", y = 0, kind='scatter');"
   ]
  },
  {
   "cell_type": "code",
   "execution_count": 12,
   "metadata": {},
   "outputs": [
    {
     "data": {
      "image/png": "[encoded data removed]",
      "text/plain": [
       "<Figure size 640x480 with 1 Axes>"
      ]
     },
     "metadata": {},
     "output_type": "display_data"
    }
   ],
   "source": [
    "pd.concat([y_test.reset_index(), m2_pred], axis=1).plot(x = \"AVG(diff)\", y = 0, kind='scatter');"
   ]
  },
  {
   "cell_type": "code",
   "execution_count": 21,
   "metadata": {},
   "outputs": [
    {
     "data": {
      "image/png": "[encoded data removed]",
      "text/plain": [
       "<Figure size 640x480 with 1 Axes>"
      ]
     },
     "metadata": {},
     "output_type": "display_data"
    }
   ],
   "source": [
    "pd.concat([y_test.reset_index(), m3_pred], axis=1).plot(x = \"AVG(diff)\", y = 0, kind='scatter');"
   ]
  }
 ],
 "metadata": {
  "kernelspec": {
   "display_name": ".venv",
   "language": "python",
   "name": "python3"
  },
  "language_info": {
   "codemirror_mode": {
    "name": "ipython",
    "version": 3
   },
   "file_extension": ".py",
   "mimetype": "text/x-python",
   "name": "python",
   "nbconvert_exporter": "python",
   "pygments_lexer": "ipython3",
   "version": "3.13.1"
  }
 },
 "nbformat": 4,
 "nbformat_minor": 4
}
